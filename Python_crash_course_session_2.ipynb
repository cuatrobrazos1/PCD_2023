{
 "cells": [
  {
   "cell_type": "markdown",
   "id": "62cb9dea-1f9a-4914-a191-c4e09a341829",
   "metadata": {},
   "source": [
    "<!-- PROFILE LINK -->\n",
    "<h1 style = \"text-align:center; font-size: 30px\">PROGRAMACIÓN CONCURRENTE Y DISTRIBUIDA</h1>\n",
    "<a href =\"https://github.com/sukuzhanay\">\n",
    "<img src=\"https://avatars.githubusercontent.com/u/17354471?v=4\" style=\"float:left;vertical-align:centre\" width=\"110\" height=\"110\" title = \"Christian Vlaldimir Sucuzhanay Arevalo 21535220\">\n",
    "<a href =\"https://github.com/sukuzhanay?tab=repositories\">\n",
    "<img src=\"https://media-exp1.licdn.com/dms/image/C4D0BAQEu_Aa76fcmPw/company-logo_200_200/0/1630998679429?e=2159024400&v=beta&t=2feC9GG7RWCWizTqsK5HzDWB1TL2DOQuAVwnMf6FFvk\" title = \"M41\" alt=\"UE\" width=\"110\" height=\"110\" style=\"float:right;vertical-align:centre\">"
   ]
  },
  {
   "cell_type": "markdown",
   "id": "b5aae5fa",
   "metadata": {},
   "source": [
    "# Python crash course\n",
    "## *Session 2*"
   ]
  },
  {
   "cell_type": "markdown",
   "id": "08131300",
   "metadata": {},
   "source": [
    "En sesión anterior vimos que tenemos disponibles una serie de tipos básicos:\n",
    "* Cadenas de texto.\n",
    "* Booleanos.\n",
    "* Numéricos: entero, decimal, complejo.\n",
    "* Colecciones: listas, tuplas, conjuntos, diccionarios.\n",
    "Y como asignar valores a objetos (variables) para crearlos con el operador `=`.\n",
    "\n",
    "Adicionalmente tenemos funciones que nos permiten cambiar de tipo a los objetos:"
   ]
  },
  {
   "cell_type": "code",
   "execution_count": 1,
   "id": "e4d3f9f9",
   "metadata": {},
   "outputs": [],
   "source": [
    "x11 = 24\n",
    "x12 = int(24)\n",
    "x21 = 33\n",
    "x22 = float(33)\n",
    "z = complex(x11)\n",
    "\n",
    "l1 = [1,2,3]\n",
    "t1 = (4,5,6)\n",
    "l2 = tuple(l1)\n",
    "t2 = list(t1)\n",
    "\n",
    "c1 = set(l1)\n",
    "\n",
    "r1 = list()\n",
    "r2 = tuple()\n",
    "r3 = set()"
   ]
  },
  {
   "cell_type": "code",
   "execution_count": 2,
   "id": "388dfba6",
   "metadata": {},
   "outputs": [
    {
     "data": {
      "text/plain": [
       "float"
      ]
     },
     "execution_count": 2,
     "metadata": {},
     "output_type": "execute_result"
    }
   ],
   "source": [
    "type(x22)"
   ]
  },
  {
   "cell_type": "code",
   "execution_count": 5,
   "id": "6147afb8-efda-4e56-a18b-a60fa64c75b2",
   "metadata": {},
   "outputs": [
    {
     "data": {
      "text/plain": [
       "{1, 2, 3}"
      ]
     },
     "execution_count": 5,
     "metadata": {},
     "output_type": "execute_result"
    }
   ],
   "source": [
    "c1"
   ]
  },
  {
   "cell_type": "code",
   "execution_count": 6,
   "id": "61661ca6-0e28-4ac4-99b2-22ed7f897d38",
   "metadata": {},
   "outputs": [
    {
     "data": {
      "text/plain": [
       "set()"
      ]
     },
     "execution_count": 6,
     "metadata": {},
     "output_type": "execute_result"
    }
   ],
   "source": [
    "r3"
   ]
  },
  {
   "cell_type": "code",
   "execution_count": 11,
   "id": "0ac30058",
   "metadata": {},
   "outputs": [],
   "source": [
    "lista1 = [1,2,3]"
   ]
  },
  {
   "cell_type": "code",
   "execution_count": null,
   "id": "d5885448-c130-40ec-81e5-738e66f7bbf0",
   "metadata": {},
   "outputs": [],
   "source": []
  },
  {
   "cell_type": "code",
   "execution_count": 12,
   "id": "c95af80c",
   "metadata": {},
   "outputs": [],
   "source": [
    "lista2 = lista1"
   ]
  },
  {
   "cell_type": "code",
   "execution_count": 13,
   "id": "f563a2f2",
   "metadata": {},
   "outputs": [
    {
     "name": "stdout",
     "output_type": "stream",
     "text": [
      "[1, 2, 3]\n",
      "[1, 2, 3]\n"
     ]
    }
   ],
   "source": [
    "print(lista1)\n",
    "print(lista2)"
   ]
  },
  {
   "cell_type": "code",
   "execution_count": 15,
   "id": "f7740872",
   "metadata": {},
   "outputs": [],
   "source": [
    "lista2[1]= 99"
   ]
  },
  {
   "cell_type": "code",
   "execution_count": 16,
   "id": "e5cc913f",
   "metadata": {},
   "outputs": [
    {
     "name": "stdout",
     "output_type": "stream",
     "text": [
      "[1, 99, 3]\n",
      "[1, 99, 3]\n"
     ]
    }
   ],
   "source": [
    "print(lista1)\n",
    "print(lista2)"
   ]
  },
  {
   "cell_type": "code",
   "execution_count": 17,
   "id": "5dc75065",
   "metadata": {},
   "outputs": [],
   "source": [
    "lista1.append(88)"
   ]
  },
  {
   "cell_type": "code",
   "execution_count": 18,
   "id": "9fe1fc43",
   "metadata": {},
   "outputs": [
    {
     "name": "stdout",
     "output_type": "stream",
     "text": [
      "[1, 99, 3, 88]\n",
      "[1, 99, 3, 88]\n"
     ]
    }
   ],
   "source": [
    "print(lista1)\n",
    "print(lista2)"
   ]
  },
  {
   "cell_type": "code",
   "execution_count": 19,
   "id": "79a5c6b8",
   "metadata": {},
   "outputs": [],
   "source": [
    "lista3 = lista1.copy()"
   ]
  },
  {
   "cell_type": "code",
   "execution_count": 20,
   "id": "8d77c87a",
   "metadata": {},
   "outputs": [],
   "source": [
    "lista3.append(77)"
   ]
  },
  {
   "cell_type": "code",
   "execution_count": 21,
   "id": "dab59b3b",
   "metadata": {},
   "outputs": [
    {
     "name": "stdout",
     "output_type": "stream",
     "text": [
      "[1, 99, 3, 88]\n",
      "[1, 99, 3, 88]\n",
      "[1, 99, 3, 88, 77]\n"
     ]
    }
   ],
   "source": [
    "print(lista1)\n",
    "print(lista2)\n",
    "print(lista3)"
   ]
  },
  {
   "cell_type": "code",
   "execution_count": null,
   "id": "9db397ad",
   "metadata": {},
   "outputs": [],
   "source": [
    "lista1.append(66)"
   ]
  },
  {
   "cell_type": "code",
   "execution_count": null,
   "id": "4dd5f6aa",
   "metadata": {},
   "outputs": [],
   "source": [
    "print(lista1)\n",
    "print(lista2)\n",
    "print(lista3)"
   ]
  },
  {
   "cell_type": "markdown",
   "id": "bde8ae70",
   "metadata": {},
   "source": [
    "También existe una función para comprobar si un objeto es de un determinado tipo"
   ]
  },
  {
   "cell_type": "code",
   "execution_count": 22,
   "id": "fafdbd92",
   "metadata": {},
   "outputs": [],
   "source": [
    "v1 = 99"
   ]
  },
  {
   "cell_type": "code",
   "execution_count": 23,
   "id": "7208f5ef",
   "metadata": {},
   "outputs": [
    {
     "name": "stdout",
     "output_type": "stream",
     "text": [
      "True False\n"
     ]
    }
   ],
   "source": [
    "print(isinstance(v1, int), isinstance(v1, float)) "
   ]
  },
  {
   "cell_type": "markdown",
   "id": "fe9b6d77",
   "metadata": {},
   "source": [
    "### El tipo conjunto\n",
    "\n",
    "Un conjunto es una colección de elementos no ordenados, no modificables y no permite duplicados.\n",
    "\n",
    "Su definición se realiza mediante llaves `{ }`.\n",
    "También existe el tipo `frozenset` que es una versión no inmutable del conjunto.\n",
    "\n",
    "Al tratarse de conjuntos vamos a poder aplicar las operaciones de conjuntos.\n",
    "* Inclusión\n",
    "* Intersección\n",
    "* Unión\n"
   ]
  },
  {
   "cell_type": "code",
   "execution_count": 27,
   "id": "6ab964e4",
   "metadata": {},
   "outputs": [
    {
     "name": "stdout",
     "output_type": "stream",
     "text": [
      "{(1+5j), 1, 'casa', 90, 'perro'}\n",
      "{1, 90.0, 3.2, 25}\n"
     ]
    }
   ],
   "source": [
    "A = {'casa', 'perro', 1, 1+5j, 90, 90.0}; print(A)\n",
    "B = {1, 3.2, 25, 90.0}; print(B)"
   ]
  },
  {
   "cell_type": "code",
   "execution_count": 25,
   "id": "a7b1b656",
   "metadata": {},
   "outputs": [
    {
     "name": "stdout",
     "output_type": "stream",
     "text": [
      "False\n",
      "True\n"
     ]
    }
   ],
   "source": [
    "# INCLUSION DE ELEMENTOS\n",
    "print('gato' in A)\n",
    "print('perro' in A)"
   ]
  },
  {
   "cell_type": "code",
   "execution_count": null,
   "id": "995f9ee2",
   "metadata": {},
   "outputs": [],
   "source": [
    "{1, 90} in A"
   ]
  },
  {
   "cell_type": "code",
   "execution_count": 26,
   "id": "2b702814",
   "metadata": {},
   "outputs": [
    {
     "name": "stdout",
     "output_type": "stream",
     "text": [
      "{1, 3.2, 'perro', (1+5j), 'casa', 25, 90}\n",
      "{1, 3.2, 'perro', (1+5j), 'casa', 25, 90.0}\n"
     ]
    }
   ],
   "source": [
    "# UNION DE DOS O MAS CONJUNTOS\n",
    "print(A | B)\n",
    "print(B | A)"
   ]
  },
  {
   "cell_type": "code",
   "execution_count": null,
   "id": "4653cb68",
   "metadata": {},
   "outputs": [],
   "source": [
    "A | (25,6,'gato')"
   ]
  },
  {
   "cell_type": "code",
   "execution_count": null,
   "id": "3974d32f",
   "metadata": {},
   "outputs": [],
   "source": [
    "A.union(B)"
   ]
  },
  {
   "cell_type": "code",
   "execution_count": null,
   "id": "25112962",
   "metadata": {},
   "outputs": [],
   "source": [
    "A.union((25,6,'gato'))"
   ]
  },
  {
   "cell_type": "code",
   "execution_count": null,
   "id": "a7dd17b5",
   "metadata": {},
   "outputs": [],
   "source": [
    "# INTERSECCIÓN DE DOS O MÁS CONJUNTOS\n",
    "A & B"
   ]
  },
  {
   "cell_type": "code",
   "execution_count": null,
   "id": "a5a44ed0",
   "metadata": {},
   "outputs": [],
   "source": [
    "B.intersection(A)"
   ]
  },
  {
   "cell_type": "code",
   "execution_count": null,
   "id": "0e4af082",
   "metadata": {},
   "outputs": [],
   "source": [
    "# DIFERENCIA DE CONJUNTOS"
   ]
  },
  {
   "cell_type": "code",
   "execution_count": null,
   "id": "d6396bba",
   "metadata": {},
   "outputs": [],
   "source": [
    "A - B"
   ]
  },
  {
   "cell_type": "code",
   "execution_count": null,
   "id": "4b0ee20d",
   "metadata": {},
   "outputs": [],
   "source": [
    "A.difference(B)"
   ]
  },
  {
   "cell_type": "code",
   "execution_count": null,
   "id": "ae1aeaf6",
   "metadata": {},
   "outputs": [],
   "source": [
    "# Diferencia simétrica\n",
    "A ^ B"
   ]
  },
  {
   "cell_type": "code",
   "execution_count": null,
   "id": "442b4f27",
   "metadata": {},
   "outputs": [],
   "source": [
    "A.union(B).difference(A.intersection(B))"
   ]
  },
  {
   "cell_type": "code",
   "execution_count": null,
   "id": "5cc8d7d8",
   "metadata": {},
   "outputs": [],
   "source": [
    "# Comprobación de si existen elementos en común.\n",
    "A.isdisjoint(B)"
   ]
  },
  {
   "cell_type": "code",
   "execution_count": null,
   "id": "e11ae7ad",
   "metadata": {},
   "outputs": [],
   "source": [
    "{1, 90}.issubset(A) #inclusión de subconjuntos"
   ]
  },
  {
   "cell_type": "code",
   "execution_count": null,
   "id": "14b094ef",
   "metadata": {},
   "outputs": [],
   "source": [
    "{1, 90} < A"
   ]
  },
  {
   "cell_type": "code",
   "execution_count": null,
   "id": "e3a763ec",
   "metadata": {},
   "outputs": [],
   "source": [
    "{1, 90} <= A"
   ]
  },
  {
   "cell_type": "markdown",
   "id": "69bcfaf1",
   "metadata": {},
   "source": [
    "Cada tipo tiene asociados una serie de métodos (funciones) que nos permiten trabajar con ellos, los podíamos ver al pulsar tabulador después del punto que sigue al objeto que queremos tratar."
   ]
  },
  {
   "cell_type": "markdown",
   "id": "3ca059f4",
   "metadata": {},
   "source": [
    "#### Algunos métodos de cadenas de texto"
   ]
  },
  {
   "cell_type": "code",
   "execution_count": 31,
   "id": "e5d73780",
   "metadata": {},
   "outputs": [],
   "source": [
    "str1 = 'Hablen niños ratas de las UEM'"
   ]
  },
  {
   "cell_type": "code",
   "execution_count": 32,
   "id": "f413672d",
   "metadata": {},
   "outputs": [
    {
     "data": {
      "text/plain": [
       "['Hablen niños ratas de ', ' UEM']"
      ]
     },
     "execution_count": 32,
     "metadata": {},
     "output_type": "execute_result"
    }
   ],
   "source": [
    "str1.split('las') # Genera una lista con cada fragmento de la cadena en una posición según el separador indicado."
   ]
  },
  {
   "cell_type": "code",
   "execution_count": null,
   "id": "f28f665f",
   "metadata": {},
   "outputs": [],
   "source": [
    "print(str1.lower()) # en minúsculas\n",
    "print(str1.upper()) # en mayúsculas"
   ]
  },
  {
   "cell_type": "code",
   "execution_count": null,
   "id": "fe811cb9",
   "metadata": {},
   "outputs": [],
   "source": [
    "str1.strip(' ') # elimina el caracter indicado."
   ]
  },
  {
   "cell_type": "markdown",
   "id": "d5c9fd5e",
   "metadata": {},
   "source": [
    "Existen algunas funciones básicas que son propias de Python base:"
   ]
  },
  {
   "cell_type": "code",
   "execution_count": null,
   "id": "69df2e7b",
   "metadata": {},
   "outputs": [],
   "source": [
    "print(str1) # parar imprimir cadenas de texto."
   ]
  },
  {
   "cell_type": "code",
   "execution_count": null,
   "id": "5c1f04ef",
   "metadata": {},
   "outputs": [],
   "source": [
    "len(str1) #longitud de un objeto, que tenga medida"
   ]
  },
  {
   "cell_type": "code",
   "execution_count": null,
   "id": "191cbdc6",
   "metadata": {},
   "outputs": [],
   "source": [
    "globals() #listar variables"
   ]
  },
  {
   "cell_type": "code",
   "execution_count": null,
   "id": "0372790f",
   "metadata": {},
   "outputs": [],
   "source": [
    "dir() #lista de variables"
   ]
  },
  {
   "cell_type": "markdown",
   "id": "f94c366d",
   "metadata": {},
   "source": [
    "Existen disferentes comandos _mágicos_ del notebook que nos permiten hacer otras cosas"
   ]
  },
  {
   "cell_type": "code",
   "execution_count": null,
   "id": "15c65af2",
   "metadata": {},
   "outputs": [],
   "source": [
    "# listar variables\n",
    "%who "
   ]
  },
  {
   "cell_type": "code",
   "execution_count": null,
   "id": "c5d7070f",
   "metadata": {},
   "outputs": [],
   "source": [
    "#Listar variables tipo y valor\n",
    "%whos"
   ]
  },
  {
   "cell_type": "code",
   "execution_count": null,
   "id": "c0489500",
   "metadata": {},
   "outputs": [],
   "source": [
    "%timeit\n",
    "x=1"
   ]
  },
  {
   "cell_type": "code",
   "execution_count": null,
   "id": "d557d888",
   "metadata": {},
   "outputs": [],
   "source": [
    "# eliminar una o varias variables\n",
    "del x12"
   ]
  },
  {
   "cell_type": "code",
   "execution_count": null,
   "id": "8c93146e",
   "metadata": {},
   "outputs": [],
   "source": [
    "%who"
   ]
  },
  {
   "cell_type": "markdown",
   "id": "c73bdf8e",
   "metadata": {},
   "source": [
    "#### Algunos métodos de las listas"
   ]
  },
  {
   "cell_type": "code",
   "execution_count": null,
   "id": "02aa94e2",
   "metadata": {},
   "outputs": [],
   "source": [
    "lista = [1,2,3,4,5,6,7,8,9,10]"
   ]
  },
  {
   "cell_type": "code",
   "execution_count": null,
   "id": "4e5926d4",
   "metadata": {},
   "outputs": [],
   "source": [
    "lista.append(25) # Añade valor al final de la lista"
   ]
  },
  {
   "cell_type": "code",
   "execution_count": null,
   "id": "0213e2a1",
   "metadata": {},
   "outputs": [],
   "source": [
    "lista.pop() # Devuelve el último valor de la lista y lo elimina."
   ]
  },
  {
   "cell_type": "code",
   "execution_count": null,
   "id": "c2830062",
   "metadata": {},
   "outputs": [],
   "source": [
    "otra_lista = lista.copy() # Permite copiar los valores de una lista a otra."
   ]
  },
  {
   "cell_type": "code",
   "execution_count": null,
   "id": "6529879d",
   "metadata": {},
   "outputs": [],
   "source": [
    "lista.reverse() #invierte el orden"
   ]
  },
  {
   "cell_type": "code",
   "execution_count": null,
   "id": "e236dc5c",
   "metadata": {},
   "outputs": [],
   "source": [
    "lista.sort() #orden la lista"
   ]
  },
  {
   "cell_type": "code",
   "execution_count": null,
   "id": "11f5c45b",
   "metadata": {},
   "outputs": [],
   "source": [
    "lista.clear() #elimina todos los elementos."
   ]
  },
  {
   "cell_type": "markdown",
   "id": "61fcd75d",
   "metadata": {},
   "source": [
    "# Ejercicios"
   ]
  },
  {
   "cell_type": "code",
   "execution_count": 6,
   "id": "b3ae26c1",
   "metadata": {},
   "outputs": [],
   "source": [
    "from random import seed, random, randint, gauss, choice, sample"
   ]
  },
  {
   "cell_type": "code",
   "execution_count": 7,
   "id": "72c1bba7",
   "metadata": {},
   "outputs": [],
   "source": [
    "lista = [random() for i in range(110)]"
   ]
  },
  {
   "cell_type": "markdown",
   "id": "65b6aa1e",
   "metadata": {},
   "source": [
    "### Suma de los elementos de una lista"
   ]
  },
  {
   "cell_type": "code",
   "execution_count": 8,
   "id": "72562a98",
   "metadata": {},
   "outputs": [
    {
     "name": "stdout",
     "output_type": "stream",
     "text": [
      "56.71540212517444\n"
     ]
    }
   ],
   "source": [
    "suma = 0\n",
    "for numero in lista:\n",
    "    suma = suma + numero\n",
    "print(suma)\n"
   ]
  },
  {
   "cell_type": "markdown",
   "id": "859e60e1",
   "metadata": {},
   "source": [
    "### Recuento de los elementos de una lista"
   ]
  },
  {
   "cell_type": "code",
   "execution_count": 15,
   "id": "8fcfaaee",
   "metadata": {
    "scrolled": true
   },
   "outputs": [
    {
     "name": "stdout",
     "output_type": "stream",
     "text": [
      "110\n"
     ]
    }
   ],
   "source": [
    "recuento = 0\n",
    "for numero in lista:\n",
    "    recuento = recuento + 1\n",
    "print(recuento)"
   ]
  },
  {
   "cell_type": "code",
   "execution_count": 17,
   "id": "7dd15886-eb73-44bb-a614-4ca0152b1096",
   "metadata": {},
   "outputs": [],
   "source": [
    "ls1= [random() for i in range(20)]"
   ]
  },
  {
   "cell_type": "code",
   "execution_count": 9,
   "id": "ae768438",
   "metadata": {},
   "outputs": [],
   "source": [
    "def recuento(ls1):\n",
    "    \"\"\"Función que aceptada como entrada una lista de números y \n",
    "    realiza el recuento de sus elementos\"\"\"\n",
    "    x = 0\n",
    "    for i in ls1:\n",
    "        x = x + 1\n",
    "    return x"
   ]
  },
  {
   "cell_type": "code",
   "execution_count": 10,
   "id": "6291c6af",
   "metadata": {},
   "outputs": [
    {
     "name": "stdout",
     "output_type": "stream",
     "text": [
      "Help on function recuento in module __main__:\n",
      "\n",
      "recuento(ls1)\n",
      "    Función que aceptada como entrada una lista de números y \n",
      "    realiza el recuento de sus elementos\n",
      "\n"
     ]
    }
   ],
   "source": [
    "help(recuento)"
   ]
  },
  {
   "cell_type": "code",
   "execution_count": 127,
   "id": "17ec775b",
   "metadata": {},
   "outputs": [],
   "source": [
    "n = recuento(lista)"
   ]
  },
  {
   "cell_type": "markdown",
   "id": "05d92aff",
   "metadata": {},
   "source": [
    "### Programa una función que devuelva la varianza y desviación típica de los valores de una lista\n",
    "$$S^2=\\frac{1}{n}\\sum_{i=1}^n (x_i - \\bar{x})^2$$"
   ]
  },
  {
   "cell_type": "code",
   "execution_count": 14,
   "id": "5c1217cb-f882-47dd-bfaa-a50765f68600",
   "metadata": {},
   "outputs": [],
   "source": [
    "import math"
   ]
  },
  {
   "cell_type": "code",
   "execution_count": 15,
   "id": "2a7b2dd8",
   "metadata": {},
   "outputs": [],
   "source": [
    "def varianza(ls):\n",
    "    \"\"\"Función que calcula la varianza y desviación típica de los valores de \n",
    "    una lista de números.\"\"\"\n",
    "    suma = 0\n",
    "    recuento = 0\n",
    "    for x in ls:\n",
    "        suma = suma + x\n",
    "        recuento = recuento + 1\n",
    "    media = suma / recuento\n",
    "    \n",
    "    var = 0\n",
    "    for x in ls:\n",
    "        var = var + (x - media)**2\n",
    "    var = 1 / recuento\n",
    "    \n",
    "    sd = math.sqrt(var)\n",
    "    \n",
    "    return [var, sd]"
   ]
  },
  {
   "cell_type": "code",
   "execution_count": 16,
   "id": "a3a55898",
   "metadata": {},
   "outputs": [
    {
     "data": {
      "text/plain": [
       "[0.00909090909090909, 0.09534625892455922]"
      ]
     },
     "execution_count": 16,
     "metadata": {},
     "output_type": "execute_result"
    }
   ],
   "source": [
    "varianza(lista)"
   ]
  },
  {
   "cell_type": "markdown",
   "id": "960aaf95",
   "metadata": {},
   "source": [
    "### Factorial de un número\n",
    "\n",
    "$$n!=1\\cdot 2\\cdot...\\cdot (n-1)\\cdot n = n\\cdot (n-1)!$$"
   ]
  },
  {
   "cell_type": "code",
   "execution_count": 18,
   "id": "56db99cc",
   "metadata": {},
   "outputs": [],
   "source": [
    "def factorial1(n):\n",
    "    \"\"\"Función que calcula el factorial de un número.\"\"\"\n",
    "    producto = 1\n",
    "    for x in range(1,n+1):\n",
    "        producto = producto * x\n",
    "    return producto"
   ]
  },
  {
   "cell_type": "code",
   "execution_count": 25,
   "id": "051eb8a9",
   "metadata": {},
   "outputs": [
    {
     "data": {
      "text/plain": [
       "3628800"
      ]
     },
     "execution_count": 25,
     "metadata": {},
     "output_type": "execute_result"
    }
   ],
   "source": [
    "\n",
    "factorial1(10)"
   ]
  },
  {
   "cell_type": "code",
   "execution_count": 22,
   "id": "6cc35b43",
   "metadata": {},
   "outputs": [],
   "source": [
    "def factorial2(n):\n",
    "    \"\"\"...\"\"\"\n",
    "    if n in (0,1):\n",
    "        return 1\n",
    "    else:\n",
    "        return n * factorial2(n-1)"
   ]
  },
  {
   "cell_type": "code",
   "execution_count": 24,
   "id": "be225cdd",
   "metadata": {},
   "outputs": [
    {
     "data": {
      "text/plain": [
       "3628800"
      ]
     },
     "execution_count": 24,
     "metadata": {},
     "output_type": "execute_result"
    }
   ],
   "source": [
    "factorial2(10)"
   ]
  },
  {
   "cell_type": "markdown",
   "id": "ff9b7c42",
   "metadata": {},
   "source": [
    "### Programa una función que compruebe si un número es par"
   ]
  },
  {
   "cell_type": "code",
   "execution_count": 39,
   "id": "f976eed3",
   "metadata": {},
   "outputs": [],
   "source": [
    "def es_par(x):\n",
    "    \"\"\"esta funcion comprueba si un numero es par \"\"\"\n",
    "    if (x % 2) == 0:\n",
    "        return True\n",
    "    else:\n",
    "        return False"
   ]
  },
  {
   "cell_type": "code",
   "execution_count": 45,
   "id": "2b506dd5",
   "metadata": {},
   "outputs": [
    {
     "data": {
      "text/plain": [
       "False"
      ]
     },
     "execution_count": 45,
     "metadata": {},
     "output_type": "execute_result"
    }
   ],
   "source": [
    "es_par(7)"
   ]
  },
  {
   "cell_type": "markdown",
   "id": "38381873",
   "metadata": {},
   "source": [
    "# Serie de Fibonacci\n",
    "\n",
    "La secuencia de Fibonacci se define como $X_n = X_{n-1} + X_{n-2}$ con $X_0 = 0$ y $X_1 = 1$.\n",
    "\n",
    "Definamos una función que nos calcule el valor de la serie hasta un valor n.\n",
    "0, 1, 1, 2, 3, 5, 8, 13, 21,..."
   ]
  },
  {
   "cell_type": "code",
   "execution_count": 47,
   "id": "cd3a1ed7",
   "metadata": {},
   "outputs": [
    {
     "name": "stdout",
     "output_type": "stream",
     "text": [
      "[1, 1]\n",
      "[1, 1, 2]\n",
      "[1, 1, 2, 3]\n",
      "[1, 1, 2, 3, 5]\n"
     ]
    }
   ],
   "source": [
    "x = [1, 1];print(x)\n",
    "i = 1\n",
    "x = x + [x[0] + x[1]]\n",
    "print(x)\n",
    "x = x + [x[1] + x[2]]\n",
    "print(x)\n",
    "x = x + [x[2] + x[3]]\n",
    "print(x)"
   ]
  },
  {
   "cell_type": "code",
   "execution_count": 48,
   "id": "2f56f8f3",
   "metadata": {},
   "outputs": [
    {
     "name": "stdout",
     "output_type": "stream",
     "text": [
      "[1, 1]\n",
      "[1, 1, 2]\n",
      "[1, 1, 2, 3]\n",
      "[1, 1, 2, 3, 5]\n",
      "[1, 1, 2, 3, 5, 8]\n"
     ]
    }
   ],
   "source": [
    "x = [1, 1];print(x)\n",
    "i = 1\n",
    "x = x + [x[i-1] + x[i]]\n",
    "print(x)\n",
    "i += 1\n",
    "x = x + [x[i-1] + x[i]]\n",
    "print(x)\n",
    "i += 1\n",
    "x = x + [x[i-1] + x[i]]\n",
    "print(x)\n",
    "i += 1\n",
    "x = x + [x[i-1] + x[i]]\n",
    "print(x)"
   ]
  },
  {
   "cell_type": "code",
   "execution_count": 49,
   "id": "5c0574d2",
   "metadata": {},
   "outputs": [
    {
     "name": "stdout",
     "output_type": "stream",
     "text": [
      "[1, 1]\n"
     ]
    }
   ],
   "source": [
    "x = [1, 1]\n",
    "n = 2\n",
    "for i in range(1, n - 1):\n",
    "    x = x + [x[i] + x[i-1]]\n",
    "print(x)"
   ]
  },
  {
   "cell_type": "code",
   "execution_count": 50,
   "id": "bf71975c",
   "metadata": {},
   "outputs": [],
   "source": [
    "def serie_fibonacci(n_elem):\n",
    "    salida = []\n",
    "    for i in range(n_elem):\n",
    "        salida.append(fibonacci(i+1))\n",
    "    return salida"
   ]
  },
  {
   "cell_type": "code",
   "execution_count": null,
   "id": "55802e58",
   "metadata": {},
   "outputs": [],
   "source": []
  },
  {
   "cell_type": "code",
   "execution_count": 51,
   "id": "21f14d82",
   "metadata": {},
   "outputs": [],
   "source": [
    "def serie_fibonacci2(n_elem=0):\n",
    "    aux = [1, 1]\n",
    "    if n_elem < 1:\n",
    "        print(\"Se debe indicar como mínimo un elemento.\")\n",
    "    elif n_elem <= 2:\n",
    "        return aux[:n_elem]\n",
    "    else:\n",
    "        for i in range(2, n_elem):\n",
    "            aux.append(sum(aux[(i-2):i]))\n",
    "        return aux"
   ]
  },
  {
   "cell_type": "markdown",
   "id": "84af9562",
   "metadata": {},
   "source": [
    "No ha sido muy complicado, pero hay otra forma de realizar su definición:"
   ]
  },
  {
   "cell_type": "code",
   "execution_count": 52,
   "id": "9dc6dce7",
   "metadata": {},
   "outputs": [],
   "source": [
    "def fibonacci(n):\n",
    "    a, b = 0, 1\n",
    "    for i in range(n):\n",
    "        a, b = b, a + b\n",
    "    return a"
   ]
  },
  {
   "cell_type": "code",
   "execution_count": 53,
   "id": "2abecf08",
   "metadata": {},
   "outputs": [],
   "source": [
    "def fibonacci_rec(n):\n",
    "    if n == 0:\n",
    "        resultado = 0\n",
    "    elif n == 1:\n",
    "        resultado = 1\n",
    "    else:\n",
    "        resultado = fibonacci_rec(n - 1) + fibonacci_rec(n - 2)\n",
    "    return resultado"
   ]
  },
  {
   "cell_type": "markdown",
   "id": "70797d2b",
   "metadata": {},
   "source": [
    "Como podemos ver para definir la función estamos haciendo uso de ella misma, esto es la recursión.\n",
    "\n",
    "¿cuál de las dos crees que es más rápida?\n",
    "\n",
    "<div class=\"alert alert-success\"><b>Consejo:</b> \n",
    "    \n",
    "Explora los operadores mágicos `%%time` y `%%timeit`, recuerda que debes ponerlo al principio de la celda.\n",
    "</div>\n",
    "\n",
    "Prueba a definir una función que calcule el factorial de un número natural de forma recursiva y no recursiva."
   ]
  },
  {
   "cell_type": "code",
   "execution_count": 55,
   "id": "975b0242",
   "metadata": {},
   "outputs": [
    {
     "name": "stdout",
     "output_type": "stream",
     "text": [
      "602 ns ± 113 ns per loop (mean ± std. dev. of 7 runs, 1,000,000 loops each)\n"
     ]
    }
   ],
   "source": [
    "%%timeit\n",
    "fibonacci(10)"
   ]
  },
  {
   "cell_type": "code",
   "execution_count": 56,
   "id": "dd599d47",
   "metadata": {},
   "outputs": [
    {
     "name": "stdout",
     "output_type": "stream",
     "text": [
      "14.1 µs ± 134 ns per loop (mean ± std. dev. of 7 runs, 100,000 loops each)\n"
     ]
    }
   ],
   "source": [
    "%%timeit\n",
    "fibonacci_rec(10)"
   ]
  },
  {
   "cell_type": "markdown",
   "id": "d09066e6",
   "metadata": {},
   "source": [
    "### Programa una función que aproxime al número $\\pi$ hasta cierta precisión `eps` utilizando el bucle `while` y la siguiente expresión.\n",
    "\n",
    "$$\\pi = \\sum_{k=0}^{\\infty}\\frac{2(-1)^k3^{\\frac{1}{2}-k}}{2k+1}$$\n",
    "\n",
    "$$\\frac{\\pi}{4}=\\sum_{n=0}^{\\infty}\\frac{(-1)^n}{2n+1}$$"
   ]
  },
  {
   "cell_type": "code",
   "execution_count": 87,
   "id": "032581ec",
   "metadata": {},
   "outputs": [
    {
     "name": "stdout",
     "output_type": "stream",
     "text": [
      "3.14159051093808\n"
     ]
    }
   ],
   "source": [
    "pi = 0\n",
    "for k in range(10):\n",
    "    pi += 2 * ((-1) ** k) * (3 ** (1 / 2 - k)) / (2 * k + 1)\n",
    "\n",
    "print(pi)"
   ]
  },
  {
   "cell_type": "code",
   "execution_count": 88,
   "id": "239f42fc",
   "metadata": {},
   "outputs": [
    {
     "data": {
      "text/plain": [
       "-9.262873425739429e-06"
      ]
     },
     "execution_count": 88,
     "metadata": {},
     "output_type": "execute_result"
    }
   ],
   "source": [
    "2 * ((-1) ** k) * (3 ** (1 / 2 - k)) / (2 * k + 1)"
   ]
  },
  {
   "cell_type": "code",
   "execution_count": 89,
   "id": "bb6fac11",
   "metadata": {},
   "outputs": [],
   "source": [
    "def aproxima_pi(eps):\n",
    "    \"\"\"...\"\"\"\n",
    "    pi = 0\n",
    "    k = 0\n",
    "    while (k <= 1000):\n",
    "        pi += 2 * ((-1) ** k) * (3 ** (1 / 2 - k)) / (2 * k + 1)\n",
    "        print(pi)\n",
    "        k += 1\n",
    "        \n",
    "    return pi"
   ]
  },
  {
   "cell_type": "code",
   "execution_count": 95,
   "id": "3d939af6-88e1-4861-99d5-ca7ad87a5a5e",
   "metadata": {},
   "outputs": [
    {
     "name": "stdout",
     "output_type": "stream",
     "text": [
      "3.4641016151377544\n",
      "3.0792014356780038\n",
      "3.156181471569954\n",
      "3.13785289159568\n",
      "3.1426047456630846\n",
      "3.141308785462883\n",
      "3.1416743126988376\n",
      "3.141568715941784\n",
      "3.141599773811506\n",
      "3.14159051093808\n",
      "3.1415933045030817\n",
      "3.1415924542876463\n",
      "3.14159271502038\n",
      "3.141592634547314\n",
      "3.141592659521714\n",
      "3.1415926517339976\n",
      "3.1415926541725754\n",
      "3.1415926534061653\n",
      "3.1415926536478262\n",
      "3.1415926535714034\n",
      "3.141592653595635\n",
      "3.1415926535879337\n",
      "3.141592653590387\n",
      "3.141592653589604\n",
      "3.1415926535898544\n",
      "3.141592653589774\n",
      "3.1415926535897998\n",
      "3.1415926535897913\n",
      "3.141592653589794\n",
      "3.141592653589793\n",
      "3.1415926535897936\n",
      "3.1415926535897936\n",
      "3.1415926535897936\n",
      "3.1415926535897936\n",
      "3.1415926535897936\n",
      "3.1415926535897936\n",
      "3.1415926535897936\n",
      "3.1415926535897936\n",
      "3.1415926535897936\n",
      "3.1415926535897936\n",
      "3.1415926535897936\n",
      "3.1415926535897936\n",
      "3.1415926535897936\n",
      "3.1415926535897936\n",
      "3.1415926535897936\n",
      "3.1415926535897936\n",
      "3.1415926535897936\n",
      "3.1415926535897936\n",
      "3.1415926535897936\n",
      "3.1415926535897936\n",
      "3.1415926535897936\n",
      "3.1415926535897936\n",
      "3.1415926535897936\n",
      "3.1415926535897936\n",
      "3.1415926535897936\n",
      "3.1415926535897936\n",
      "3.1415926535897936\n",
      "3.1415926535897936\n",
      "3.1415926535897936\n",
      "3.1415926535897936\n",
      "3.1415926535897936\n",
      "3.1415926535897936\n",
      "3.1415926535897936\n",
      "3.1415926535897936\n",
      "3.1415926535897936\n",
      "3.1415926535897936\n",
      "3.1415926535897936\n",
      "3.1415926535897936\n",
      "3.1415926535897936\n",
      "3.1415926535897936\n",
      "3.1415926535897936\n",
      "3.1415926535897936\n",
      "3.1415926535897936\n",
      "3.1415926535897936\n",
      "3.1415926535897936\n",
      "3.1415926535897936\n",
      "3.1415926535897936\n",
      "3.1415926535897936\n",
      "3.1415926535897936\n",
      "3.1415926535897936\n",
      "3.1415926535897936\n",
      "3.1415926535897936\n",
      "3.1415926535897936\n",
      "3.1415926535897936\n",
      "3.1415926535897936\n",
      "3.1415926535897936\n",
      "3.1415926535897936\n",
      "3.1415926535897936\n",
      "3.1415926535897936\n",
      "3.1415926535897936\n",
      "3.1415926535897936\n",
      "3.1415926535897936\n",
      "3.1415926535897936\n",
      "3.1415926535897936\n",
      "3.1415926535897936\n",
      "3.1415926535897936\n",
      "3.1415926535897936\n",
      "3.1415926535897936\n",
      "3.1415926535897936\n",
      "3.1415926535897936\n",
      "3.1415926535897936\n",
      "3.1415926535897936\n",
      "3.1415926535897936\n",
      "3.1415926535897936\n",
      "3.1415926535897936\n",
      "3.1415926535897936\n",
      "3.1415926535897936\n",
      "3.1415926535897936\n",
      "3.1415926535897936\n",
      "3.1415926535897936\n",
      "3.1415926535897936\n",
      "3.1415926535897936\n",
      "3.1415926535897936\n",
      "3.1415926535897936\n",
      "3.1415926535897936\n",
      "3.1415926535897936\n",
      "3.1415926535897936\n",
      "3.1415926535897936\n",
      "3.1415926535897936\n",
      "3.1415926535897936\n",
      "3.1415926535897936\n",
      "3.1415926535897936\n",
      "3.1415926535897936\n",
      "3.1415926535897936\n",
      "3.1415926535897936\n",
      "3.1415926535897936\n",
      "3.1415926535897936\n",
      "3.1415926535897936\n",
      "3.1415926535897936\n",
      "3.1415926535897936\n",
      "3.1415926535897936\n",
      "3.1415926535897936\n",
      "3.1415926535897936\n",
      "3.1415926535897936\n",
      "3.1415926535897936\n",
      "3.1415926535897936\n",
      "3.1415926535897936\n",
      "3.1415926535897936\n",
      "3.1415926535897936\n",
      "3.1415926535897936\n",
      "3.1415926535897936\n",
      "3.1415926535897936\n",
      "3.1415926535897936\n",
      "3.1415926535897936\n",
      "3.1415926535897936\n",
      "3.1415926535897936\n",
      "3.1415926535897936\n",
      "3.1415926535897936\n",
      "3.1415926535897936\n",
      "3.1415926535897936\n",
      "3.1415926535897936\n",
      "3.1415926535897936\n",
      "3.1415926535897936\n",
      "3.1415926535897936\n",
      "3.1415926535897936\n",
      "3.1415926535897936\n",
      "3.1415926535897936\n",
      "3.1415926535897936\n",
      "3.1415926535897936\n",
      "3.1415926535897936\n",
      "3.1415926535897936\n",
      "3.1415926535897936\n",
      "3.1415926535897936\n",
      "3.1415926535897936\n",
      "3.1415926535897936\n",
      "3.1415926535897936\n",
      "3.1415926535897936\n",
      "3.1415926535897936\n",
      "3.1415926535897936\n",
      "3.1415926535897936\n",
      "3.1415926535897936\n",
      "3.1415926535897936\n",
      "3.1415926535897936\n",
      "3.1415926535897936\n",
      "3.1415926535897936\n",
      "3.1415926535897936\n",
      "3.1415926535897936\n",
      "3.1415926535897936\n",
      "3.1415926535897936\n",
      "3.1415926535897936\n",
      "3.1415926535897936\n",
      "3.1415926535897936\n",
      "3.1415926535897936\n",
      "3.1415926535897936\n",
      "3.1415926535897936\n",
      "3.1415926535897936\n",
      "3.1415926535897936\n",
      "3.1415926535897936\n",
      "3.1415926535897936\n",
      "3.1415926535897936\n",
      "3.1415926535897936\n",
      "3.1415926535897936\n",
      "3.1415926535897936\n",
      "3.1415926535897936\n",
      "3.1415926535897936\n",
      "3.1415926535897936\n",
      "3.1415926535897936\n",
      "3.1415926535897936\n",
      "3.1415926535897936\n",
      "3.1415926535897936\n",
      "3.1415926535897936\n",
      "3.1415926535897936\n",
      "3.1415926535897936\n",
      "3.1415926535897936\n",
      "3.1415926535897936\n",
      "3.1415926535897936\n",
      "3.1415926535897936\n",
      "3.1415926535897936\n",
      "3.1415926535897936\n",
      "3.1415926535897936\n",
      "3.1415926535897936\n",
      "3.1415926535897936\n",
      "3.1415926535897936\n",
      "3.1415926535897936\n",
      "3.1415926535897936\n",
      "3.1415926535897936\n",
      "3.1415926535897936\n",
      "3.1415926535897936\n",
      "3.1415926535897936\n",
      "3.1415926535897936\n",
      "3.1415926535897936\n",
      "3.1415926535897936\n",
      "3.1415926535897936\n",
      "3.1415926535897936\n",
      "3.1415926535897936\n",
      "3.1415926535897936\n",
      "3.1415926535897936\n",
      "3.1415926535897936\n",
      "3.1415926535897936\n",
      "3.1415926535897936\n",
      "3.1415926535897936\n",
      "3.1415926535897936\n",
      "3.1415926535897936\n",
      "3.1415926535897936\n",
      "3.1415926535897936\n",
      "3.1415926535897936\n",
      "3.1415926535897936\n",
      "3.1415926535897936\n",
      "3.1415926535897936\n",
      "3.1415926535897936\n",
      "3.1415926535897936\n",
      "3.1415926535897936\n",
      "3.1415926535897936\n",
      "3.1415926535897936\n",
      "3.1415926535897936\n",
      "3.1415926535897936\n",
      "3.1415926535897936\n",
      "3.1415926535897936\n",
      "3.1415926535897936\n",
      "3.1415926535897936\n",
      "3.1415926535897936\n",
      "3.1415926535897936\n",
      "3.1415926535897936\n",
      "3.1415926535897936\n",
      "3.1415926535897936\n",
      "3.1415926535897936\n",
      "3.1415926535897936\n",
      "3.1415926535897936\n",
      "3.1415926535897936\n",
      "3.1415926535897936\n",
      "3.1415926535897936\n",
      "3.1415926535897936\n",
      "3.1415926535897936\n",
      "3.1415926535897936\n",
      "3.1415926535897936\n",
      "3.1415926535897936\n",
      "3.1415926535897936\n",
      "3.1415926535897936\n",
      "3.1415926535897936\n",
      "3.1415926535897936\n",
      "3.1415926535897936\n",
      "3.1415926535897936\n",
      "3.1415926535897936\n",
      "3.1415926535897936\n",
      "3.1415926535897936\n",
      "3.1415926535897936\n",
      "3.1415926535897936\n",
      "3.1415926535897936\n",
      "3.1415926535897936\n",
      "3.1415926535897936\n",
      "3.1415926535897936\n",
      "3.1415926535897936\n",
      "3.1415926535897936\n",
      "3.1415926535897936\n",
      "3.1415926535897936\n",
      "3.1415926535897936\n",
      "3.1415926535897936\n",
      "3.1415926535897936\n",
      "3.1415926535897936\n",
      "3.1415926535897936\n",
      "3.1415926535897936\n",
      "3.1415926535897936\n",
      "3.1415926535897936\n",
      "3.1415926535897936\n",
      "3.1415926535897936\n",
      "3.1415926535897936\n",
      "3.1415926535897936\n",
      "3.1415926535897936\n",
      "3.1415926535897936\n",
      "3.1415926535897936\n",
      "3.1415926535897936\n",
      "3.1415926535897936\n",
      "3.1415926535897936\n",
      "3.1415926535897936\n",
      "3.1415926535897936\n",
      "3.1415926535897936\n",
      "3.1415926535897936\n",
      "3.1415926535897936\n",
      "3.1415926535897936\n",
      "3.1415926535897936\n",
      "3.1415926535897936\n",
      "3.1415926535897936\n",
      "3.1415926535897936\n",
      "3.1415926535897936\n",
      "3.1415926535897936\n",
      "3.1415926535897936\n",
      "3.1415926535897936\n",
      "3.1415926535897936\n",
      "3.1415926535897936\n",
      "3.1415926535897936\n",
      "3.1415926535897936\n",
      "3.1415926535897936\n",
      "3.1415926535897936\n",
      "3.1415926535897936\n",
      "3.1415926535897936\n",
      "3.1415926535897936\n",
      "3.1415926535897936\n",
      "3.1415926535897936\n",
      "3.1415926535897936\n",
      "3.1415926535897936\n",
      "3.1415926535897936\n",
      "3.1415926535897936\n",
      "3.1415926535897936\n",
      "3.1415926535897936\n",
      "3.1415926535897936\n",
      "3.1415926535897936\n",
      "3.1415926535897936\n",
      "3.1415926535897936\n",
      "3.1415926535897936\n",
      "3.1415926535897936\n",
      "3.1415926535897936\n",
      "3.1415926535897936\n",
      "3.1415926535897936\n",
      "3.1415926535897936\n",
      "3.1415926535897936\n",
      "3.1415926535897936\n",
      "3.1415926535897936\n",
      "3.1415926535897936\n",
      "3.1415926535897936\n",
      "3.1415926535897936\n",
      "3.1415926535897936\n",
      "3.1415926535897936\n",
      "3.1415926535897936\n",
      "3.1415926535897936\n",
      "3.1415926535897936\n",
      "3.1415926535897936\n",
      "3.1415926535897936\n",
      "3.1415926535897936\n",
      "3.1415926535897936\n",
      "3.1415926535897936\n",
      "3.1415926535897936\n",
      "3.1415926535897936\n",
      "3.1415926535897936\n",
      "3.1415926535897936\n",
      "3.1415926535897936\n",
      "3.1415926535897936\n",
      "3.1415926535897936\n",
      "3.1415926535897936\n",
      "3.1415926535897936\n",
      "3.1415926535897936\n",
      "3.1415926535897936\n",
      "3.1415926535897936\n",
      "3.1415926535897936\n",
      "3.1415926535897936\n",
      "3.1415926535897936\n",
      "3.1415926535897936\n",
      "3.1415926535897936\n",
      "3.1415926535897936\n",
      "3.1415926535897936\n",
      "3.1415926535897936\n",
      "3.1415926535897936\n",
      "3.1415926535897936\n",
      "3.1415926535897936\n",
      "3.1415926535897936\n",
      "3.1415926535897936\n",
      "3.1415926535897936\n",
      "3.1415926535897936\n",
      "3.1415926535897936\n",
      "3.1415926535897936\n",
      "3.1415926535897936\n",
      "3.1415926535897936\n",
      "3.1415926535897936\n",
      "3.1415926535897936\n",
      "3.1415926535897936\n",
      "3.1415926535897936\n",
      "3.1415926535897936\n",
      "3.1415926535897936\n",
      "3.1415926535897936\n",
      "3.1415926535897936\n",
      "3.1415926535897936\n",
      "3.1415926535897936\n",
      "3.1415926535897936\n",
      "3.1415926535897936\n",
      "3.1415926535897936\n",
      "3.1415926535897936\n",
      "3.1415926535897936\n",
      "3.1415926535897936\n",
      "3.1415926535897936\n",
      "3.1415926535897936\n",
      "3.1415926535897936\n",
      "3.1415926535897936\n",
      "3.1415926535897936\n",
      "3.1415926535897936\n",
      "3.1415926535897936\n",
      "3.1415926535897936\n",
      "3.1415926535897936\n",
      "3.1415926535897936\n",
      "3.1415926535897936\n",
      "3.1415926535897936\n",
      "3.1415926535897936\n",
      "3.1415926535897936\n",
      "3.1415926535897936\n",
      "3.1415926535897936\n",
      "3.1415926535897936\n",
      "3.1415926535897936\n",
      "3.1415926535897936\n",
      "3.1415926535897936\n",
      "3.1415926535897936\n",
      "3.1415926535897936\n",
      "3.1415926535897936\n",
      "3.1415926535897936\n",
      "3.1415926535897936\n",
      "3.1415926535897936\n",
      "3.1415926535897936\n",
      "3.1415926535897936\n",
      "3.1415926535897936\n",
      "3.1415926535897936\n",
      "3.1415926535897936\n",
      "3.1415926535897936\n",
      "3.1415926535897936\n",
      "3.1415926535897936\n",
      "3.1415926535897936\n",
      "3.1415926535897936\n",
      "3.1415926535897936\n",
      "3.1415926535897936\n",
      "3.1415926535897936\n",
      "3.1415926535897936\n",
      "3.1415926535897936\n",
      "3.1415926535897936\n",
      "3.1415926535897936\n",
      "3.1415926535897936\n",
      "3.1415926535897936\n",
      "3.1415926535897936\n",
      "3.1415926535897936\n",
      "3.1415926535897936\n",
      "3.1415926535897936\n",
      "3.1415926535897936\n",
      "3.1415926535897936\n",
      "3.1415926535897936\n",
      "3.1415926535897936\n",
      "3.1415926535897936\n",
      "3.1415926535897936\n",
      "3.1415926535897936\n",
      "3.1415926535897936\n",
      "3.1415926535897936\n",
      "3.1415926535897936\n",
      "3.1415926535897936\n",
      "3.1415926535897936\n",
      "3.1415926535897936\n",
      "3.1415926535897936\n",
      "3.1415926535897936\n",
      "3.1415926535897936\n",
      "3.1415926535897936\n",
      "3.1415926535897936\n",
      "3.1415926535897936\n",
      "3.1415926535897936\n",
      "3.1415926535897936\n",
      "3.1415926535897936\n",
      "3.1415926535897936\n",
      "3.1415926535897936\n",
      "3.1415926535897936\n",
      "3.1415926535897936\n",
      "3.1415926535897936\n",
      "3.1415926535897936\n",
      "3.1415926535897936\n",
      "3.1415926535897936\n",
      "3.1415926535897936\n",
      "3.1415926535897936\n",
      "3.1415926535897936\n",
      "3.1415926535897936\n",
      "3.1415926535897936\n",
      "3.1415926535897936\n",
      "3.1415926535897936\n",
      "3.1415926535897936\n",
      "3.1415926535897936\n",
      "3.1415926535897936\n",
      "3.1415926535897936\n",
      "3.1415926535897936\n",
      "3.1415926535897936\n",
      "3.1415926535897936\n",
      "3.1415926535897936\n",
      "3.1415926535897936\n",
      "3.1415926535897936\n",
      "3.1415926535897936\n",
      "3.1415926535897936\n",
      "3.1415926535897936\n",
      "3.1415926535897936\n",
      "3.1415926535897936\n",
      "3.1415926535897936\n",
      "3.1415926535897936\n",
      "3.1415926535897936\n",
      "3.1415926535897936\n",
      "3.1415926535897936\n",
      "3.1415926535897936\n",
      "3.1415926535897936\n",
      "3.1415926535897936\n",
      "3.1415926535897936\n",
      "3.1415926535897936\n",
      "3.1415926535897936\n",
      "3.1415926535897936\n",
      "3.1415926535897936\n",
      "3.1415926535897936\n",
      "3.1415926535897936\n",
      "3.1415926535897936\n",
      "3.1415926535897936\n",
      "3.1415926535897936\n",
      "3.1415926535897936\n",
      "3.1415926535897936\n",
      "3.1415926535897936\n",
      "3.1415926535897936\n",
      "3.1415926535897936\n",
      "3.1415926535897936\n",
      "3.1415926535897936\n",
      "3.1415926535897936\n",
      "3.1415926535897936\n",
      "3.1415926535897936\n",
      "3.1415926535897936\n",
      "3.1415926535897936\n",
      "3.1415926535897936\n",
      "3.1415926535897936\n",
      "3.1415926535897936\n",
      "3.1415926535897936\n",
      "3.1415926535897936\n",
      "3.1415926535897936\n",
      "3.1415926535897936\n",
      "3.1415926535897936\n",
      "3.1415926535897936\n",
      "3.1415926535897936\n",
      "3.1415926535897936\n",
      "3.1415926535897936\n",
      "3.1415926535897936\n",
      "3.1415926535897936\n",
      "3.1415926535897936\n",
      "3.1415926535897936\n",
      "3.1415926535897936\n",
      "3.1415926535897936\n",
      "3.1415926535897936\n",
      "3.1415926535897936\n",
      "3.1415926535897936\n",
      "3.1415926535897936\n",
      "3.1415926535897936\n",
      "3.1415926535897936\n",
      "3.1415926535897936\n",
      "3.1415926535897936\n",
      "3.1415926535897936\n",
      "3.1415926535897936\n",
      "3.1415926535897936\n",
      "3.1415926535897936\n",
      "3.1415926535897936\n",
      "3.1415926535897936\n",
      "3.1415926535897936\n",
      "3.1415926535897936\n",
      "3.1415926535897936\n",
      "3.1415926535897936\n",
      "3.1415926535897936\n",
      "3.1415926535897936\n",
      "3.1415926535897936\n",
      "3.1415926535897936\n",
      "3.1415926535897936\n",
      "3.1415926535897936\n",
      "3.1415926535897936\n",
      "3.1415926535897936\n",
      "3.1415926535897936\n",
      "3.1415926535897936\n",
      "3.1415926535897936\n",
      "3.1415926535897936\n",
      "3.1415926535897936\n",
      "3.1415926535897936\n",
      "3.1415926535897936\n",
      "3.1415926535897936\n",
      "3.1415926535897936\n",
      "3.1415926535897936\n",
      "3.1415926535897936\n",
      "3.1415926535897936\n",
      "3.1415926535897936\n",
      "3.1415926535897936\n",
      "3.1415926535897936\n",
      "3.1415926535897936\n",
      "3.1415926535897936\n",
      "3.1415926535897936\n",
      "3.1415926535897936\n",
      "3.1415926535897936\n",
      "3.1415926535897936\n",
      "3.1415926535897936\n",
      "3.1415926535897936\n",
      "3.1415926535897936\n",
      "3.1415926535897936\n",
      "3.1415926535897936\n",
      "3.1415926535897936\n",
      "3.1415926535897936\n",
      "3.1415926535897936\n",
      "3.1415926535897936\n",
      "3.1415926535897936\n",
      "3.1415926535897936\n",
      "3.1415926535897936\n",
      "3.1415926535897936\n",
      "3.1415926535897936\n",
      "3.1415926535897936\n",
      "3.1415926535897936\n",
      "3.1415926535897936\n",
      "3.1415926535897936\n",
      "3.1415926535897936\n",
      "3.1415926535897936\n",
      "3.1415926535897936\n",
      "3.1415926535897936\n",
      "3.1415926535897936\n",
      "3.1415926535897936\n",
      "3.1415926535897936\n",
      "3.1415926535897936\n",
      "3.1415926535897936\n",
      "3.1415926535897936\n",
      "3.1415926535897936\n",
      "3.1415926535897936\n",
      "3.1415926535897936\n",
      "3.1415926535897936\n",
      "3.1415926535897936\n",
      "3.1415926535897936\n",
      "3.1415926535897936\n",
      "3.1415926535897936\n",
      "3.1415926535897936\n",
      "3.1415926535897936\n",
      "3.1415926535897936\n",
      "3.1415926535897936\n",
      "3.1415926535897936\n",
      "3.1415926535897936\n",
      "3.1415926535897936\n",
      "3.1415926535897936\n",
      "3.1415926535897936\n",
      "3.1415926535897936\n",
      "3.1415926535897936\n",
      "3.1415926535897936\n",
      "3.1415926535897936\n",
      "3.1415926535897936\n",
      "3.1415926535897936\n",
      "3.1415926535897936\n",
      "3.1415926535897936\n",
      "3.1415926535897936\n",
      "3.1415926535897936\n",
      "3.1415926535897936\n",
      "3.1415926535897936\n",
      "3.1415926535897936\n",
      "3.1415926535897936\n",
      "3.1415926535897936\n",
      "3.1415926535897936\n",
      "3.1415926535897936\n",
      "3.1415926535897936\n",
      "3.1415926535897936\n",
      "3.1415926535897936\n",
      "3.1415926535897936\n",
      "3.1415926535897936\n",
      "3.1415926535897936\n",
      "3.1415926535897936\n",
      "3.1415926535897936\n",
      "3.1415926535897936\n",
      "3.1415926535897936\n",
      "3.1415926535897936\n",
      "3.1415926535897936\n",
      "3.1415926535897936\n",
      "3.1415926535897936\n",
      "3.1415926535897936\n",
      "3.1415926535897936\n",
      "3.1415926535897936\n",
      "3.1415926535897936\n",
      "3.1415926535897936\n",
      "3.1415926535897936\n",
      "3.1415926535897936\n",
      "3.1415926535897936\n",
      "3.1415926535897936\n",
      "3.1415926535897936\n",
      "3.1415926535897936\n",
      "3.1415926535897936\n",
      "3.1415926535897936\n",
      "3.1415926535897936\n",
      "3.1415926535897936\n",
      "3.1415926535897936\n",
      "3.1415926535897936\n",
      "3.1415926535897936\n",
      "3.1415926535897936\n",
      "3.1415926535897936\n",
      "3.1415926535897936\n",
      "3.1415926535897936\n",
      "3.1415926535897936\n",
      "3.1415926535897936\n",
      "3.1415926535897936\n",
      "3.1415926535897936\n",
      "3.1415926535897936\n",
      "3.1415926535897936\n",
      "3.1415926535897936\n",
      "3.1415926535897936\n",
      "3.1415926535897936\n",
      "3.1415926535897936\n",
      "3.1415926535897936\n",
      "3.1415926535897936\n",
      "3.1415926535897936\n",
      "3.1415926535897936\n",
      "3.1415926535897936\n",
      "3.1415926535897936\n",
      "3.1415926535897936\n",
      "3.1415926535897936\n",
      "3.1415926535897936\n",
      "3.1415926535897936\n",
      "3.1415926535897936\n",
      "3.1415926535897936\n",
      "3.1415926535897936\n",
      "3.1415926535897936\n",
      "3.1415926535897936\n",
      "3.1415926535897936\n",
      "3.1415926535897936\n",
      "3.1415926535897936\n",
      "3.1415926535897936\n",
      "3.1415926535897936\n",
      "3.1415926535897936\n",
      "3.1415926535897936\n",
      "3.1415926535897936\n",
      "3.1415926535897936\n",
      "3.1415926535897936\n",
      "3.1415926535897936\n",
      "3.1415926535897936\n",
      "3.1415926535897936\n",
      "3.1415926535897936\n",
      "3.1415926535897936\n",
      "3.1415926535897936\n",
      "3.1415926535897936\n",
      "3.1415926535897936\n",
      "3.1415926535897936\n",
      "3.1415926535897936\n",
      "3.1415926535897936\n",
      "3.1415926535897936\n",
      "3.1415926535897936\n",
      "3.1415926535897936\n",
      "3.1415926535897936\n",
      "3.1415926535897936\n",
      "3.1415926535897936\n",
      "3.1415926535897936\n",
      "3.1415926535897936\n",
      "3.1415926535897936\n",
      "3.1415926535897936\n",
      "3.1415926535897936\n",
      "3.1415926535897936\n",
      "3.1415926535897936\n",
      "3.1415926535897936\n",
      "3.1415926535897936\n",
      "3.1415926535897936\n",
      "3.1415926535897936\n",
      "3.1415926535897936\n",
      "3.1415926535897936\n",
      "3.1415926535897936\n",
      "3.1415926535897936\n",
      "3.1415926535897936\n",
      "3.1415926535897936\n",
      "3.1415926535897936\n",
      "3.1415926535897936\n",
      "3.1415926535897936\n",
      "3.1415926535897936\n",
      "3.1415926535897936\n",
      "3.1415926535897936\n",
      "3.1415926535897936\n",
      "3.1415926535897936\n",
      "3.1415926535897936\n",
      "3.1415926535897936\n",
      "3.1415926535897936\n",
      "3.1415926535897936\n",
      "3.1415926535897936\n",
      "3.1415926535897936\n",
      "3.1415926535897936\n",
      "3.1415926535897936\n",
      "3.1415926535897936\n",
      "3.1415926535897936\n",
      "3.1415926535897936\n",
      "3.1415926535897936\n",
      "3.1415926535897936\n",
      "3.1415926535897936\n",
      "3.1415926535897936\n",
      "3.1415926535897936\n",
      "3.1415926535897936\n",
      "3.1415926535897936\n",
      "3.1415926535897936\n",
      "3.1415926535897936\n",
      "3.1415926535897936\n",
      "3.1415926535897936\n",
      "3.1415926535897936\n",
      "3.1415926535897936\n",
      "3.1415926535897936\n",
      "3.1415926535897936\n",
      "3.1415926535897936\n",
      "3.1415926535897936\n",
      "3.1415926535897936\n",
      "3.1415926535897936\n",
      "3.1415926535897936\n",
      "3.1415926535897936\n",
      "3.1415926535897936\n",
      "3.1415926535897936\n",
      "3.1415926535897936\n",
      "3.1415926535897936\n",
      "3.1415926535897936\n",
      "3.1415926535897936\n",
      "3.1415926535897936\n",
      "3.1415926535897936\n",
      "3.1415926535897936\n",
      "3.1415926535897936\n",
      "3.1415926535897936\n",
      "3.1415926535897936\n",
      "3.1415926535897936\n",
      "3.1415926535897936\n",
      "3.1415926535897936\n",
      "3.1415926535897936\n",
      "3.1415926535897936\n",
      "3.1415926535897936\n",
      "3.1415926535897936\n",
      "3.1415926535897936\n",
      "3.1415926535897936\n",
      "3.1415926535897936\n",
      "3.1415926535897936\n",
      "3.1415926535897936\n",
      "3.1415926535897936\n",
      "3.1415926535897936\n",
      "3.1415926535897936\n",
      "3.1415926535897936\n",
      "3.1415926535897936\n",
      "3.1415926535897936\n",
      "3.1415926535897936\n",
      "3.1415926535897936\n",
      "3.1415926535897936\n",
      "3.1415926535897936\n",
      "3.1415926535897936\n",
      "3.1415926535897936\n",
      "3.1415926535897936\n",
      "3.1415926535897936\n",
      "3.1415926535897936\n",
      "3.1415926535897936\n",
      "3.1415926535897936\n",
      "3.1415926535897936\n",
      "3.1415926535897936\n",
      "3.1415926535897936\n",
      "3.1415926535897936\n",
      "3.1415926535897936\n",
      "3.1415926535897936\n",
      "3.1415926535897936\n",
      "3.1415926535897936\n",
      "3.1415926535897936\n",
      "3.1415926535897936\n",
      "3.1415926535897936\n",
      "3.1415926535897936\n",
      "3.1415926535897936\n",
      "3.1415926535897936\n",
      "3.1415926535897936\n",
      "3.1415926535897936\n",
      "3.1415926535897936\n",
      "3.1415926535897936\n",
      "3.1415926535897936\n",
      "3.1415926535897936\n",
      "3.1415926535897936\n",
      "3.1415926535897936\n",
      "3.1415926535897936\n",
      "3.1415926535897936\n",
      "3.1415926535897936\n",
      "3.1415926535897936\n",
      "3.1415926535897936\n",
      "3.1415926535897936\n",
      "3.1415926535897936\n",
      "3.1415926535897936\n",
      "3.1415926535897936\n",
      "3.1415926535897936\n",
      "3.1415926535897936\n",
      "3.1415926535897936\n",
      "3.1415926535897936\n",
      "3.1415926535897936\n",
      "3.1415926535897936\n",
      "3.1415926535897936\n",
      "3.1415926535897936\n",
      "3.1415926535897936\n",
      "3.1415926535897936\n",
      "3.1415926535897936\n",
      "3.1415926535897936\n",
      "3.1415926535897936\n",
      "3.1415926535897936\n",
      "3.1415926535897936\n",
      "3.1415926535897936\n",
      "3.1415926535897936\n",
      "3.1415926535897936\n",
      "3.1415926535897936\n",
      "3.1415926535897936\n",
      "3.1415926535897936\n",
      "3.1415926535897936\n",
      "3.1415926535897936\n",
      "3.1415926535897936\n",
      "3.1415926535897936\n",
      "3.1415926535897936\n",
      "3.1415926535897936\n",
      "3.1415926535897936\n",
      "3.1415926535897936\n",
      "3.1415926535897936\n",
      "3.1415926535897936\n",
      "3.1415926535897936\n",
      "3.1415926535897936\n",
      "3.1415926535897936\n",
      "3.1415926535897936\n",
      "3.1415926535897936\n",
      "3.1415926535897936\n",
      "3.1415926535897936\n",
      "3.1415926535897936\n",
      "3.1415926535897936\n",
      "3.1415926535897936\n",
      "3.1415926535897936\n",
      "3.1415926535897936\n",
      "3.1415926535897936\n",
      "3.1415926535897936\n",
      "3.1415926535897936\n",
      "3.1415926535897936\n",
      "3.1415926535897936\n",
      "3.1415926535897936\n",
      "3.1415926535897936\n",
      "3.1415926535897936\n",
      "3.1415926535897936\n",
      "3.1415926535897936\n",
      "3.1415926535897936\n",
      "3.1415926535897936\n",
      "3.1415926535897936\n",
      "3.1415926535897936\n",
      "3.1415926535897936\n",
      "3.1415926535897936\n",
      "3.1415926535897936\n",
      "3.1415926535897936\n",
      "3.1415926535897936\n",
      "3.1415926535897936\n",
      "3.1415926535897936\n",
      "3.1415926535897936\n",
      "3.1415926535897936\n",
      "3.1415926535897936\n",
      "3.1415926535897936\n",
      "3.1415926535897936\n",
      "3.1415926535897936\n",
      "3.1415926535897936\n",
      "3.1415926535897936\n",
      "3.1415926535897936\n",
      "3.1415926535897936\n",
      "3.1415926535897936\n",
      "3.1415926535897936\n",
      "3.1415926535897936\n",
      "3.1415926535897936\n",
      "3.1415926535897936\n",
      "3.1415926535897936\n",
      "3.1415926535897936\n",
      "3.1415926535897936\n",
      "3.1415926535897936\n",
      "3.1415926535897936\n",
      "3.1415926535897936\n",
      "3.1415926535897936\n",
      "3.1415926535897936\n",
      "3.1415926535897936\n",
      "3.1415926535897936\n",
      "3.1415926535897936\n",
      "3.1415926535897936\n",
      "3.1415926535897936\n",
      "3.1415926535897936\n",
      "3.1415926535897936\n",
      "3.1415926535897936\n",
      "3.1415926535897936\n",
      "3.1415926535897936\n",
      "3.1415926535897936\n",
      "3.1415926535897936\n",
      "3.1415926535897936\n",
      "3.1415926535897936\n",
      "3.1415926535897936\n",
      "3.1415926535897936\n",
      "3.1415926535897936\n",
      "3.1415926535897936\n",
      "3.1415926535897936\n",
      "3.1415926535897936\n",
      "3.1415926535897936\n",
      "3.1415926535897936\n",
      "3.1415926535897936\n",
      "3.1415926535897936\n",
      "3.1415926535897936\n",
      "3.1415926535897936\n",
      "3.1415926535897936\n",
      "3.1415926535897936\n",
      "3.1415926535897936\n",
      "3.1415926535897936\n",
      "3.1415926535897936\n",
      "3.1415926535897936\n"
     ]
    },
    {
     "data": {
      "text/plain": [
       "3.1415926535897936"
      ]
     },
     "execution_count": 95,
     "metadata": {},
     "output_type": "execute_result"
    }
   ],
   "source": [
    "aproxima_pi(1)"
   ]
  },
  {
   "cell_type": "markdown",
   "id": "420ad51e",
   "metadata": {},
   "source": [
    "## Programa una función que dado un número lo multiplique por 2."
   ]
  },
  {
   "cell_type": "code",
   "execution_count": 128,
   "id": "1c23d6cb",
   "metadata": {},
   "outputs": [],
   "source": [
    "def por_dos(x):\n",
    "    \"\"\"multiplica por dos \"\"\"\n",
    "    return 2*x"
   ]
  },
  {
   "cell_type": "code",
   "execution_count": 129,
   "id": "81bb751e",
   "metadata": {},
   "outputs": [
    {
     "data": {
      "text/plain": [
       "7.4"
      ]
     },
     "execution_count": 129,
     "metadata": {},
     "output_type": "execute_result"
    }
   ],
   "source": [
    "por_dos(3.7)"
   ]
  },
  {
   "cell_type": "markdown",
   "id": "72a71bb5",
   "metadata": {},
   "source": [
    "## Programa una función que dados dos números proporcione su suma y su producto."
   ]
  },
  {
   "cell_type": "code",
   "execution_count": 130,
   "id": "a36c0f3e",
   "metadata": {},
   "outputs": [],
   "source": [
    "def suma_y_producto(num1, num2):\n",
    "    suma = num1 + num2\n",
    "    producto = num1 * num2\n",
    "    return suma, producto"
   ]
  },
  {
   "cell_type": "code",
   "execution_count": 131,
   "id": "a8a498b9-8272-425a-97ca-73a460b5db5a",
   "metadata": {},
   "outputs": [],
   "source": [
    "numero1=5\n",
    "numero2=6"
   ]
  },
  {
   "cell_type": "code",
   "execution_count": 132,
   "id": "f81fe86d-ca47-4188-815f-3fb29548b4f9",
   "metadata": {},
   "outputs": [
    {
     "data": {
      "text/plain": [
       "(11, 30)"
      ]
     },
     "execution_count": 132,
     "metadata": {},
     "output_type": "execute_result"
    }
   ],
   "source": [
    "suma_y_producto(numero1,numero2)"
   ]
  },
  {
   "cell_type": "markdown",
   "id": "d16e4732",
   "metadata": {},
   "source": [
    "## Programa una función que calcule el área y perímetro de un rectángulo dado los dos lados"
   ]
  },
  {
   "cell_type": "code",
   "execution_count": 133,
   "id": "f121283f",
   "metadata": {},
   "outputs": [],
   "source": [
    "def operacion(lado1, lado2):\n",
    "    area = lado1 * lado2\n",
    "    perimetro = 2 * (lado1 + lado2)\n",
    "    return [area, perimetro]"
   ]
  },
  {
   "cell_type": "code",
   "execution_count": 134,
   "id": "82f9a8f8-a653-4081-926c-b6a03a4e1e06",
   "metadata": {},
   "outputs": [],
   "source": [
    "lado_1=2\n",
    "lado_2=4"
   ]
  },
  {
   "cell_type": "code",
   "execution_count": 135,
   "id": "ff161a7c-a096-4ef7-90e8-a5d445ec1b0a",
   "metadata": {},
   "outputs": [
    {
     "data": {
      "text/plain": [
       "[8, 12]"
      ]
     },
     "execution_count": 135,
     "metadata": {},
     "output_type": "execute_result"
    }
   ],
   "source": [
    "operacion(lado_1,lado_2)"
   ]
  },
  {
   "cell_type": "markdown",
   "id": "dedb1eed",
   "metadata": {},
   "source": [
    "## Programa una función que calcula el área y perímetro de una circunferenica dado el radio. Como salida debe proporcionar un diccionario."
   ]
  },
  {
   "cell_type": "code",
   "execution_count": 69,
   "id": "70262d06",
   "metadata": {},
   "outputs": [
    {
     "data": {
      "text/plain": [
       "3.141592653589793"
      ]
     },
     "execution_count": 69,
     "metadata": {},
     "output_type": "execute_result"
    }
   ],
   "source": [
    "import math\n",
    "\n",
    "math.pi"
   ]
  },
  {
   "cell_type": "code",
   "execution_count": 136,
   "id": "0d87bbfa",
   "metadata": {},
   "outputs": [],
   "source": [
    "def g(radio):\n",
    "    area = math.pi * radio ** 2\n",
    "    perimetro = math.pi * radio * 2\n",
    "    return {'area':area, 'perimetro':perimetro}"
   ]
  },
  {
   "cell_type": "code",
   "execution_count": 137,
   "id": "d9d01b98",
   "metadata": {},
   "outputs": [],
   "source": [
    "x = g(1)"
   ]
  },
  {
   "cell_type": "code",
   "execution_count": 138,
   "id": "6dbe22ad",
   "metadata": {},
   "outputs": [
    {
     "data": {
      "text/plain": [
       "6.283185307179586"
      ]
     },
     "execution_count": 138,
     "metadata": {},
     "output_type": "execute_result"
    }
   ],
   "source": [
    "x['perimetro']"
   ]
  },
  {
   "cell_type": "markdown",
   "id": "336f25e1",
   "metadata": {},
   "source": [
    "## Programa una función que dado un número proporcione su tabla de multiplicar."
   ]
  },
  {
   "cell_type": "code",
   "execution_count": 139,
   "id": "2678e6f8",
   "metadata": {},
   "outputs": [],
   "source": [
    "def tabla_de_multiplicar(num):\n",
    "    for x in range(11):\n",
    "        resultado=num*x\n",
    "        print(resultado)\n",
    "    "
   ]
  },
  {
   "cell_type": "code",
   "execution_count": 140,
   "id": "0af55cf0-1ba5-46f4-9f4c-cf45b9ab27eb",
   "metadata": {},
   "outputs": [
    {
     "name": "stdout",
     "output_type": "stream",
     "text": [
      "0\n",
      "5\n",
      "10\n",
      "15\n",
      "20\n",
      "25\n",
      "30\n",
      "35\n",
      "40\n",
      "45\n",
      "50\n"
     ]
    }
   ],
   "source": [
    "numero=5\n",
    "tabla_de_multiplicar(numero)"
   ]
  },
  {
   "cell_type": "markdown",
   "id": "fc283a70",
   "metadata": {},
   "source": [
    "## Programa una función que transforme grados Celsius a grados Fahrenheit $$F=\\frac{9}{5}C+32$$"
   ]
  },
  {
   "cell_type": "code",
   "execution_count": 201,
   "id": "92c166b4",
   "metadata": {},
   "outputs": [],
   "source": [
    "def grados(C):\n",
    "    \"\"\"transforma los grados Celsius a grados Fahrenheit\"\"\"\n",
    "    return (9//5) * C + 32"
   ]
  },
  {
   "cell_type": "code",
   "execution_count": 202,
   "id": "c3c952cc",
   "metadata": {},
   "outputs": [
    {
     "data": {
      "text/plain": [
       "60"
      ]
     },
     "execution_count": 202,
     "metadata": {},
     "output_type": "execute_result"
    }
   ],
   "source": [
    "grados(28)"
   ]
  },
  {
   "cell_type": "markdown",
   "id": "d969f908",
   "metadata": {},
   "source": [
    "## Utilizando la función anterior crea un programa que proporcione una tabla de conversión de 0ºC a 100ºC de 10 en 10."
   ]
  },
  {
   "cell_type": "code",
   "execution_count": 143,
   "id": "8c044d84",
   "metadata": {},
   "outputs": [
    {
     "name": "stdout",
     "output_type": "stream",
     "text": [
      "32.0\n",
      "50.0\n",
      "68.0\n",
      "86.0\n",
      "104.0\n",
      "122.0\n",
      "140.0\n",
      "158.0\n",
      "176.0\n",
      "194.0\n",
      "212.0\n"
     ]
    }
   ],
   "source": [
    "for objeto in range(0, 101, 10):\n",
    "    print(grados(objeto))"
   ]
  },
  {
   "cell_type": "markdown",
   "id": "d7aed536",
   "metadata": {},
   "source": [
    "## Escribe un programa que reciba un número $n$ por parámetro e imprima los primeros $n$ números triangulares, junto con su índice. Los números triangulares se obtienen mediante la suma de los números naturales desde 1 hasta $n$.\n",
    "\n",
    "## Hazlo usando y sin usar la fórmula $\\sum_{i=1}^n i=n(n+1)/2$.\n",
    "¿hay diferencia en el tiempo de ejecución?"
   ]
  },
  {
   "cell_type": "markdown",
   "id": "b6d62c34-3a2f-4c43-889d-1877fa3dc751",
   "metadata": {},
   "source": [
    "si en la que no se usa formula tarda mas en ejecutar ya que tiene que recorrer un bucle n veces mientras la que utiloiza la formula lo hace todo directamente"
   ]
  },
  {
   "cell_type": "code",
   "execution_count": 124,
   "id": "36fc7ab2",
   "metadata": {},
   "outputs": [],
   "source": [
    "def sin_usar_la_formula(n):\n",
    "    resultado=0\n",
    "    for i in range(1,n+1):\n",
    "        resultado=i+resultado\n",
    "    print(resultado)\n",
    "     \n",
    "    \n"
   ]
  },
  {
   "cell_type": "code",
   "execution_count": 126,
   "id": "2e5a60c8-4049-4ff0-86f1-2deeef10c0a5",
   "metadata": {},
   "outputs": [
    {
     "name": "stdout",
     "output_type": "stream",
     "text": [
      "36\n"
     ]
    }
   ],
   "source": [
    "sin_usar_la_formula(8)"
   ]
  },
  {
   "cell_type": "code",
   "execution_count": 120,
   "id": "5981abaa-785f-4781-902c-f11f6f6bfaab",
   "metadata": {},
   "outputs": [],
   "source": [
    "def usando_formula(n):\n",
    "        resultado=n*(n+1)//2\n",
    "        print(resultado)"
   ]
  },
  {
   "cell_type": "code",
   "execution_count": 121,
   "id": "5e33e1f6-b949-4fc4-9454-58d190d470ac",
   "metadata": {},
   "outputs": [
    {
     "name": "stdout",
     "output_type": "stream",
     "text": [
      "36\n"
     ]
    }
   ],
   "source": [
    "usando_formula(8)"
   ]
  },
  {
   "cell_type": "markdown",
   "id": "d21866f1",
   "metadata": {},
   "source": [
    "## Escribe un programa que imprima todas las fichas de dominó (una por línea) sin repetir."
   ]
  },
  {
   "cell_type": "code",
   "execution_count": 148,
   "id": "ece4a4aa",
   "metadata": {},
   "outputs": [],
   "source": [
    "def fichas_Domino():\n",
    "    for i in range(7):\n",
    "        for j in range (i,7):\n",
    "            print(i,\":\",j)"
   ]
  },
  {
   "cell_type": "code",
   "execution_count": 149,
   "id": "4b090711-99d1-44db-8340-1f7392f66120",
   "metadata": {},
   "outputs": [
    {
     "name": "stdout",
     "output_type": "stream",
     "text": [
      "0 : 0\n",
      "0 : 1\n",
      "0 : 2\n",
      "0 : 3\n",
      "0 : 4\n",
      "0 : 5\n",
      "0 : 6\n",
      "1 : 1\n",
      "1 : 2\n",
      "1 : 3\n",
      "1 : 4\n",
      "1 : 5\n",
      "1 : 6\n",
      "2 : 2\n",
      "2 : 3\n",
      "2 : 4\n",
      "2 : 5\n",
      "2 : 6\n",
      "3 : 3\n",
      "3 : 4\n",
      "3 : 5\n",
      "3 : 6\n",
      "4 : 4\n",
      "4 : 5\n",
      "4 : 6\n",
      "5 : 5\n",
      "5 : 6\n",
      "6 : 6\n"
     ]
    }
   ],
   "source": [
    "fichas_Domino()"
   ]
  },
  {
   "cell_type": "markdown",
   "id": "e4d95645",
   "metadata": {},
   "source": [
    "## Escribe una función que dado un número indique si es par o no y si es primo o no."
   ]
  },
  {
   "cell_type": "code",
   "execution_count": 186,
   "id": "9f02f6f6-3cb5-4ed2-99d5-08013b703375",
   "metadata": {},
   "outputs": [],
   "source": [
    "def analizar_numero(numero):\n",
    "    if numero % 2 == 0:\n",
    "        print(numero, \"es un número par.\")\n",
    "    else:\n",
    "        print(numero, \"no es un número par.\")\n",
    "\n",
    "    if numero < 2:\n",
    "        print(numero, \"no es un número primo.\")\n",
    "    else:\n",
    "        es_primo = True\n",
    "        for i in range(2, int(numero ** 0.5) + 1):\n",
    "            if numero % i == 0:\n",
    "                es_primo = False\n",
    "        if es_primo:\n",
    "            print(numero, \"es un número primo.\")\n",
    "        else:\n",
    "            print(numero, \"no es un número primo.\")\n",
    "\n",
    "        "
   ]
  },
  {
   "cell_type": "code",
   "execution_count": 187,
   "id": "713ff3ab-ade2-485c-bf4b-ff7dcbc8256a",
   "metadata": {},
   "outputs": [
    {
     "name": "stdout",
     "output_type": "stream",
     "text": [
      "3 no es un número par.\n",
      "3 es un número primo.\n"
     ]
    }
   ],
   "source": [
    "analizar_numero(3)"
   ]
  },
  {
   "cell_type": "markdown",
   "id": "ef4c6b71",
   "metadata": {},
   "source": [
    "## Programa una implementación de la función $abs$."
   ]
  },
  {
   "cell_type": "code",
   "execution_count": 158,
   "id": "202ee7ba",
   "metadata": {},
   "outputs": [],
   "source": [
    "def absoluto(n):\n",
    "    if n > 0:\n",
    "        return n\n",
    "    else:\n",
    "        return -1*n"
   ]
  },
  {
   "cell_type": "code",
   "execution_count": 159,
   "id": "ed4ff416-5585-436b-9cfa-b371d56ed573",
   "metadata": {},
   "outputs": [
    {
     "data": {
      "text/plain": [
       "8"
      ]
     },
     "execution_count": 159,
     "metadata": {},
     "output_type": "execute_result"
    }
   ],
   "source": [
    "absoluto (8)"
   ]
  },
  {
   "cell_type": "markdown",
   "id": "5c75fa01",
   "metadata": {},
   "source": [
    "## Programa una implementción de la función $signo$."
   ]
  },
  {
   "cell_type": "code",
   "execution_count": 163,
   "id": "0751e9f8",
   "metadata": {},
   "outputs": [],
   "source": [
    "def signo(numero):\n",
    "    if numero > 0:\n",
    "        print(numero,\"es positivo\")\n",
    "    elif numero < 0:\n",
    "        print(numero,\"es negativo\")"
   ]
  },
  {
   "cell_type": "code",
   "execution_count": 164,
   "id": "0327f8d8-872f-48e1-932a-2d30d552b677",
   "metadata": {},
   "outputs": [
    {
     "name": "stdout",
     "output_type": "stream",
     "text": [
      "9 es positivo\n",
      "-9 es negativo\n"
     ]
    }
   ],
   "source": [
    "signo(9)\n",
    "signo(-9)"
   ]
  },
  {
   "cell_type": "markdown",
   "id": "c15e53ef",
   "metadata": {},
   "source": [
    "## Escribe funciónes que permitan encontrar las soluciones de un polinomio de grado dos dados sus coeficientes $a$, $b$ y $c$.\n",
    "\n",
    "## Que muestre el mínimo o máximo del polinomio."
   ]
  },
  {
   "cell_type": "code",
   "execution_count": 188,
   "id": "17be99a8",
   "metadata": {},
   "outputs": [],
   "source": [
    "def encontrar_soluciones(a, b, c):\n",
    "    discriminante = b**2 - 4*a*c\n",
    "    \n",
    "    if discriminante > 0:\n",
    "        x1 = (-b + (discriminante)**0.5) / (2*a)\n",
    "        x2 = (-b - (discriminante)**0.5) / (2*a)\n",
    "        print(f\"Las soluciones son: x1 = {x1}, x2 = {x2}\")\n",
    "    elif discriminante == 0:\n",
    "        x = -b / (2*a)\n",
    "        print(f\"La solución única es x = {x}\")\n",
    "    else:\n",
    "        print(\"No hay soluciones reales.\")"
   ]
  },
  {
   "cell_type": "code",
   "execution_count": 189,
   "id": "a436fed6-98ec-4ce5-af2c-93d812535011",
   "metadata": {},
   "outputs": [],
   "source": [
    "def encontrar_minimo_o_maximo(a, b):\n",
    "    if a > 0:\n",
    "        print(\"El polinomio tiene un mínimo en x =\", b / (2 * a))\n",
    "    elif a < 0:\n",
    "        print(\"El polinomio tiene un máximo en x =\", b / (2 * a))\n",
    "    else:\n",
    "        print(\"El coeficiente 'a' no permite definir un mínimo o máximo\")"
   ]
  },
  {
   "cell_type": "code",
   "execution_count": 191,
   "id": "1a22a2ba-df4e-4d1f-bffc-ac14ebc81970",
   "metadata": {},
   "outputs": [
    {
     "name": "stdout",
     "output_type": "stream",
     "text": [
      "Las soluciones son: x1 = 2.0, x2 = 1.0\n",
      "El polinomio tiene un mínimo en x = -1.5\n"
     ]
    }
   ],
   "source": [
    "encontrar_soluciones(1,-3,2)\n",
    "encontrar_minimo_o_maximo(1,-3)"
   ]
  },
  {
   "cell_type": "markdown",
   "id": "45bd8725",
   "metadata": {},
   "source": [
    "## Escribe una función que dado un número entero devuelva su descomposición en factores primos."
   ]
  },
  {
   "cell_type": "code",
   "execution_count": 192,
   "id": "77853595",
   "metadata": {},
   "outputs": [],
   "source": [
    "def descomposicion_en_factores_primos(numero):\n",
    "    print(\"Descomposición en factores primos de\", numero)\n",
    "    while numero % 2 == 0:\n",
    "        print(2)\n",
    "        numero //= 2\n",
    "    for i in range(3, int(numero**0.5) + 1, 2):\n",
    "        while numero % i == 0:\n",
    "            print(i)\n",
    "            numero //= i\n",
    "    if numero > 1:\n",
    "        print(numero)"
   ]
  },
  {
   "cell_type": "code",
   "execution_count": 194,
   "id": "acf804ee-9adb-45d3-9e01-2109440f487b",
   "metadata": {},
   "outputs": [
    {
     "name": "stdout",
     "output_type": "stream",
     "text": [
      "Descomposición en factores primos de 84\n",
      "2\n",
      "2\n",
      "3\n",
      "7\n"
     ]
    }
   ],
   "source": [
    "descomposicion_en_factores_primos(84)"
   ]
  },
  {
   "cell_type": "markdown",
   "id": "760932c8",
   "metadata": {},
   "source": [
    "## Programa una función que solicite por pantalla un número y permita al usuario introducirlo para luego imprimirlo por pantalla.\n",
    "\n",
    "## Usa la función `input` de python."
   ]
  },
  {
   "cell_type": "code",
   "execution_count": null,
   "id": "00d2def5",
   "metadata": {},
   "outputs": [],
   "source": [
    "x = input()"
   ]
  },
  {
   "cell_type": "code",
   "execution_count": null,
   "id": "16c88ab9",
   "metadata": {},
   "outputs": [],
   "source": [
    "print('Introduzca un valor:')\n",
    "x = int(input())\n",
    "print(\"El numero introducido es\",x)"
   ]
  },
  {
   "cell_type": "code",
   "execution_count": null,
   "id": "1d131227",
   "metadata": {},
   "outputs": [],
   "source": [
    "1+x"
   ]
  },
  {
   "cell_type": "markdown",
   "id": "bca767ff",
   "metadata": {},
   "source": [
    "## Escribe una función que tenga una contraseña inventada, que le pregunte la contraseña inventada y no le permita continuar al usuario hasta que la haya ingresado correctamente."
   ]
  },
  {
   "cell_type": "code",
   "execution_count": 195,
   "id": "2830d09a-ba88-4678-bad7-8d1a316b0d26",
   "metadata": {},
   "outputs": [],
   "source": [
    "def ingresar_contraseña():\n",
    "    contraseña_correcta = \"contraseña123\" \n",
    "    contraseña_ingresada = \"\"\n",
    "    while contraseña_ingresada != contraseña_correcta:\n",
    "        contraseña_ingresada = input(\"Ingresa la contraseña (o 'q' para salir): \")\n",
    "        if contraseña_ingresada == contraseña_correcta:\n",
    "            print(\"Contraseña correcta. Acceso permitido.\")\n",
    "        elif contraseña_ingresada.lower() == 'q':\n",
    "            print(\"Saliste del programa.\")\n",
    "            return\n",
    "        else:\n",
    "            print(\"Contraseña incorrecta. Inténtalo de nuevo.\")"
   ]
  },
  {
   "cell_type": "code",
   "execution_count": 196,
   "id": "d5ac3803-6a40-434a-a4c7-b888388489d3",
   "metadata": {},
   "outputs": [
    {
     "name": "stdin",
     "output_type": "stream",
     "text": [
      "Ingresa la contraseña (o 'q' para salir):  contraseña123\n"
     ]
    },
    {
     "name": "stdout",
     "output_type": "stream",
     "text": [
      "Contraseña correcta. Acceso permitido.\n"
     ]
    }
   ],
   "source": [
    "ingresar_contraseña()"
   ]
  },
  {
   "cell_type": "markdown",
   "id": "26ac9952",
   "metadata": {},
   "source": [
    "## Modificación la función anterior para que solo permita un número determinado de intentos y le indique al usuario cuántos intentos le quedan."
   ]
  },
  {
   "cell_type": "code",
   "execution_count": 198,
   "id": "e93e9b07",
   "metadata": {},
   "outputs": [],
   "source": [
    "def ingresar_contraseña_intentos():\n",
    "    contraseña_correcta = \"contraseña123\"\n",
    "    intentos = 3\n",
    "    while intentos > 0:\n",
    "        contraseña_ingresada = input(\"Ingresa la contraseña: \")\n",
    "        if contraseña_ingresada == contraseña_correcta:\n",
    "            print(\"Contraseña correcta. Acceso permitido.\")\n",
    "            return\n",
    "        else:\n",
    "            intentos -= 1\n",
    "            print(\"Contraseña incorrecta. Te quedan\" ,intentos, \"intentos.\")\n",
    "    print(\"Se han agotado los intentos. Acceso denegado.\")\n"
   ]
  },
  {
   "cell_type": "code",
   "execution_count": 200,
   "id": "7a7892f4-3df8-474c-b9b9-5fbada3a95a3",
   "metadata": {},
   "outputs": [
    {
     "name": "stdin",
     "output_type": "stream",
     "text": [
      "Ingresa la contraseña:  ffff\n"
     ]
    },
    {
     "name": "stdout",
     "output_type": "stream",
     "text": [
      "Contraseña incorrecta. Te quedan 2 intentos.\n"
     ]
    },
    {
     "name": "stdin",
     "output_type": "stream",
     "text": [
      "Ingresa la contraseña:  fff\n"
     ]
    },
    {
     "name": "stdout",
     "output_type": "stream",
     "text": [
      "Contraseña incorrecta. Te quedan 1 intentos.\n"
     ]
    },
    {
     "name": "stdin",
     "output_type": "stream",
     "text": [
      "Ingresa la contraseña:  contraseña123\n"
     ]
    },
    {
     "name": "stdout",
     "output_type": "stream",
     "text": [
      "Contraseña correcta. Acceso permitido.\n"
     ]
    }
   ],
   "source": [
    "ingresar_contraseña_intentos()"
   ]
  },
  {
   "cell_type": "markdown",
   "id": "c36d6550",
   "metadata": {},
   "source": [
    "## Programa una función que genere un número aleatorio entero en un rango determinado. Y que le permita al usuario introducir números indicando si son mayores o menores hasta que acierte el número."
   ]
  },
  {
   "cell_type": "code",
   "execution_count": 182,
   "id": "105044e0",
   "metadata": {},
   "outputs": [],
   "source": [
    "from random import randint"
   ]
  },
  {
   "cell_type": "code",
   "execution_count": 183,
   "id": "aae534c1",
   "metadata": {},
   "outputs": [
    {
     "data": {
      "text/plain": [
       "1"
      ]
     },
     "execution_count": 183,
     "metadata": {},
     "output_type": "execute_result"
    }
   ],
   "source": [
    "randint(0, 10)"
   ]
  },
  {
   "cell_type": "code",
   "execution_count": 184,
   "id": "8ff11ade",
   "metadata": {},
   "outputs": [],
   "source": [
    "def acierto(n_min=0, n_max=10):\n",
    "    x = randint(n_min, n_max)\n",
    "    fallo = True\n",
    "    while fallo == True:\n",
    "        print('Introduce un numero:')\n",
    "        numero = int(input())\n",
    "        if numero == x:\n",
    "            print('Has acertado')\n",
    "            fallo = False\n",
    "        elif numero < x:\n",
    "            print('Es mayor que ', numero)\n",
    "        else:\n",
    "            print('Es menor que ', numero)"
   ]
  },
  {
   "cell_type": "code",
   "execution_count": 185,
   "id": "c55fbb77",
   "metadata": {},
   "outputs": [
    {
     "name": "stdout",
     "output_type": "stream",
     "text": [
      "Introduce un numero:\n"
     ]
    },
    {
     "name": "stdin",
     "output_type": "stream",
     "text": [
      " 4\n"
     ]
    },
    {
     "name": "stdout",
     "output_type": "stream",
     "text": [
      "Has acertado\n"
     ]
    }
   ],
   "source": [
    "acierto()"
   ]
  },
  {
   "cell_type": "markdown",
   "id": "d00c2bda",
   "metadata": {},
   "source": [
    "## Programa una función que implemente el algoritmo de Euclides para calcular el máximo común divisor de dos números $n$ y $m$. Dado por los siguientes pasos:\n",
    "1. Se calcula el resto ($r$) de $m/n$.\n",
    "2. Si $r$ es cero entonces $n$ es el MCD de los valores iniciales.\n",
    "3. Si no, se asigna $m \\leftarrow n$, $n \\leftarrow r$ y se vuelve al primer paso.\n"
   ]
  },
  {
   "cell_type": "code",
   "execution_count": 205,
   "id": "44658142",
   "metadata": {},
   "outputs": [],
   "source": [
    "def maximo_comun_divisor(n, m):\n",
    "    while m // n != 0:\n",
    "        n, m = m // n, n\n",
    "    return n"
   ]
  },
  {
   "cell_type": "code",
   "execution_count": 206,
   "id": "e4b05ffb-606d-42ba-9be5-51f4c00bb0a0",
   "metadata": {
    "scrolled": true
   },
   "outputs": [
    {
     "data": {
      "text/plain": [
       "10"
      ]
     },
     "execution_count": 206,
     "metadata": {},
     "output_type": "execute_result"
    }
   ],
   "source": [
    "maximo_comun_divisor(20,40)"
   ]
  },
  {
   "cell_type": "markdown",
   "id": "61ee8f99-8adb-4490-bcd0-b3fdaba315ca",
   "metadata": {},
   "source": [
    "## Subida del codigo a github"
   ]
  },
  {
   "cell_type": "code",
   "execution_count": 207,
   "id": "e3b4e8fe-0da6-418b-adf8-208f8456c073",
   "metadata": {},
   "outputs": [
    {
     "name": "stdout",
     "output_type": "stream",
     "text": [
      "On branch main\n",
      "Your branch is up to date with 'origin/main'.\n",
      "\n",
      "Changes not staged for commit:\n",
      "  (use \"git add/rm <file>...\" to update what will be committed)\n",
      "  (use \"git restore <file>...\" to discard changes in working directory)\n",
      "\tmodified:   Python_crash_course_session_1.ipynb\n",
      "\tdeleted:    Python_crash_course_session_2.ipynb\n",
      "\n",
      "no changes added to commit (use \"git add\" and/or \"git commit -a\")\n"
     ]
    }
   ],
   "source": [
    "!git status"
   ]
  },
  {
   "cell_type": "code",
   "execution_count": 208,
   "id": "1654ec19-9dfb-4aee-895d-ef81056e9f7d",
   "metadata": {},
   "outputs": [
    {
     "name": "stdout",
     "output_type": "stream",
     "text": [
      "Reinitialized existing Git repository in C:/Users/mmarc/PCD_2023/PCD2023/.git/\n"
     ]
    }
   ],
   "source": [
    "!git init"
   ]
  },
  {
   "cell_type": "code",
   "execution_count": 209,
   "id": "c8f70840-1904-436b-967c-13d2cdf1a81f",
   "metadata": {},
   "outputs": [
    {
     "name": "stderr",
     "output_type": "stream",
     "text": [
      "warning: in the working copy of 'Python_crash_course_session_1.ipynb', LF will be replaced by CRLF the next time Git touches it\n"
     ]
    }
   ],
   "source": [
    "!git add ."
   ]
  },
  {
   "cell_type": "code",
   "execution_count": 1,
   "id": "7ef38ec8-9148-436e-bc08-693a5bbbbbc9",
   "metadata": {},
   "outputs": [
    {
     "name": "stdout",
     "output_type": "stream",
     "text": [
      "Reinitialized existing Git repository in C:/Users/mmarc/PCD_2023/.git/\n"
     ]
    }
   ],
   "source": [
    "!git init"
   ]
  },
  {
   "cell_type": "code",
   "execution_count": 2,
   "id": "cd582e22-0715-42b3-9fcb-890008dd2da5",
   "metadata": {},
   "outputs": [
    {
     "name": "stdout",
     "output_type": "stream",
     "text": [
      "On branch main\n",
      "Your branch is up to date with 'origin/main'.\n",
      "\n",
      "Changes to be committed:\n",
      "  (use \"git restore --staged <file>...\" to unstage)\n",
      "\tmodified:   Clase5Ocutubre_Miguel_Marchal_mallavibarrena.ipynb\n",
      "\n",
      "Untracked files:\n",
      "  (use \"git add <file>...\" to include in what will be committed)\n",
      "\t.ipynb_checkpoints/Clase5Ocutubre_Miguel_Marchal_mallavibarrena-Copy1-checkpoint.ipynb\n",
      "\t.ipynb_checkpoints/Python_crash_course_session_01-checkpoint.ipynb\n",
      "\t.ipynb_checkpoints/Python_crash_course_session_2-checkpoint.ipynb\n",
      "\tClase5Ocutubre_Miguel_Marchal_mallavibarrena-Copy1.ipynb\n",
      "\tPCD2023/\n",
      "\tPython_crash_course_session_01.ipynb\n",
      "\tPython_crash_course_session_2.ipynb\n",
      "\n"
     ]
    }
   ],
   "source": [
    "!git status"
   ]
  },
  {
   "cell_type": "code",
   "execution_count": 4,
   "id": "b79aa298-f48f-410d-8558-e0406fb63a12",
   "metadata": {},
   "outputs": [],
   "source": [
    "!git add ."
   ]
  },
  {
   "cell_type": "code",
   "execution_count": 5,
   "id": "2f8f1396-38d7-43fd-b3bf-329c557b6df9",
   "metadata": {},
   "outputs": [
    {
     "name": "stdout",
     "output_type": "stream",
     "text": [
      "[main fae7269] Ejercicios de la sesion 2 realizados\n",
      " 17 files changed, 22558 insertions(+), 4 deletions(-)\n",
      " create mode 100644 .ipynb_checkpoints/Clase5Ocutubre_Miguel_Marchal_mallavibarrena-Copy1-checkpoint.ipynb\n",
      " create mode 100644 .ipynb_checkpoints/Python_crash_course_session_01-checkpoint.ipynb\n",
      " create mode 100644 .ipynb_checkpoints/Python_crash_course_session_2-checkpoint.ipynb\n",
      " create mode 100644 Clase5Ocutubre_Miguel_Marchal_mallavibarrena-Copy1.ipynb\n",
      " create mode 100644 PCD2023/.gitignore\n",
      " create mode 100644 PCD2023/.virtual_documents/Git_GitHub_crash_course.ipynb\n",
      " create mode 100644 PCD2023/.virtual_documents/Python_crash_course-session_4.ipynb\n",
      " create mode 100644 PCD2023/.virtual_documents/Python_crash_course_session_1.ipynb\n",
      " create mode 100644 PCD2023/.virtual_documents/Python_crash_course_session_2.ipynb\n",
      " create mode 100644 PCD2023/.virtual_documents/Python_crash_course_session_3.ipynb\n",
      " create mode 100644 PCD2023/Git_GitHub_crash_course.ipynb\n",
      " create mode 100644 PCD2023/Python_crash_course-session_4.ipynb\n",
      " create mode 100644 PCD2023/Python_crash_course_session_3.ipynb\n",
      " create mode 100644 PCD2023/README.md\n",
      " create mode 100644 Python_crash_course_session_01.ipynb\n",
      " create mode 100644 Python_crash_course_session_2.ipynb\n"
     ]
    }
   ],
   "source": [
    "!git commit -m\"Ejercicios de la sesion 2 realizados\""
   ]
  },
  {
   "cell_type": "code",
   "execution_count": 6,
   "id": "5e0e545c-d128-41d7-a116-36eea153075a",
   "metadata": {},
   "outputs": [
    {
     "name": "stderr",
     "output_type": "stream",
     "text": [
      "To https://github.com/cuatrobrazos1/PCD_2023.git\n",
      "   72bc254..fae7269  main -> main\n"
     ]
    }
   ],
   "source": [
    "!git push -f"
   ]
  },
  {
   "cell_type": "code",
   "execution_count": 7,
   "id": "736cad36-c90b-4268-8ed1-9891f036d5bc",
   "metadata": {},
   "outputs": [
    {
     "name": "stderr",
     "output_type": "stream",
     "text": [
      "Everything up-to-date\n"
     ]
    }
   ],
   "source": [
    "!git push -f"
   ]
  },
  {
   "cell_type": "code",
   "execution_count": null,
   "id": "4fd3e37e-d01a-45cf-b428-cf754c71341c",
   "metadata": {},
   "outputs": [],
   "source": []
  }
 ],
 "metadata": {
  "kernelspec": {
   "display_name": "Python 3 (ipykernel)",
   "language": "python",
   "name": "python3"
  },
  "language_info": {
   "codemirror_mode": {
    "name": "ipython",
    "version": 3
   },
   "file_extension": ".py",
   "mimetype": "text/x-python",
   "name": "python",
   "nbconvert_exporter": "python",
   "pygments_lexer": "ipython3",
   "version": "3.11.5"
  }
 },
 "nbformat": 4,
 "nbformat_minor": 5
}
