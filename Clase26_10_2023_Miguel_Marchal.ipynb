{
 "cells": [
  {
   "cell_type": "markdown",
   "id": "e99b3835-6f04-48ac-bac2-1ec40d8b8d09",
   "metadata": {},
   "source": [
    "<!-- PROFILE LINK -->\n",
    "<h1 style = \"text-align:center; font-size: 30px\">PROGRAMACIÓN CONCURRENTE Y DISTRIBUIDA</h1>\n",
    "<a href =\"https://github.com/sukuzhanay\">\n",
    "<img src=\"https://avatars.githubusercontent.com/u/17354471?v=4\" style=\"float:left;vertical-align:centre\" width=\"110\" height=\"110\" title = \"Christian Vlaldimir Sucuzhanay Arevalo 21535220\">\n",
    "<a href =\"https://github.com/sukuzhanay?tab=repositories\">\n",
    "<img src=\"https://media-exp1.licdn.com/dms/image/C4D0BAQEu_Aa76fcmPw/company-logo_200_200/0/1630998679429?e=2159024400&v=beta&t=2feC9GG7RWCWizTqsK5HzDWB1TL2DOQuAVwnMf6FFvk\" title = \"M41\" alt=\"UE\" width=\"110\" height=\"110\" style=\"float:right;vertical-align:centre\">"
   ]
  },
  {
   "cell_type": "markdown",
   "id": "b5aae5fa",
   "metadata": {},
   "source": [
    "# Introducción a NumPy\n",
    "## *Session 3*"
   ]
  },
  {
   "cell_type": "markdown",
   "id": "3aa5a3e9",
   "metadata": {},
   "source": [
    "NumPy (Numerical Python) es el paquete indispensable para llevar a cabo tareas de alto rendimiento y de análisis de datos. Como\n",
    "ejemplo, NumPy es la base para el funcionamiento de la otra\n",
    "librería que veremos, Pandas. Pandas se sitúa en un nivel por\n",
    "encima de NumPy, aprovechándose de todas las características de\n",
    "esta librería.\n",
    "\n",
    " Esta librería está **especializada en el cálculo numérico y el análisis de datos, especialmente para un gran volumen de datos**.\n",
    "\n",
    "Al estar en un nivel superior de abstracción, Pandas ofrece unas\n",
    "funciones más cercanas al usuario para facilitar el análisis de datos.\n",
    "Igualmente, también ofrece operaciones de bajo nivel como Numpy\n",
    "\n",
    "\n",
    "Incorpora una nueva clase de objetos llamados **arrays** que permite representar colecciones de datos de un mismo tipo en varias dimensiones, y funciones muy eficientes para su manipulación."
   ]
  },
  {
   "cell_type": "code",
   "execution_count": 11,
   "id": "513bca0c-367e-4d83-a6ea-54cbca811051",
   "metadata": {},
   "outputs": [
    {
     "name": "stdout",
     "output_type": "stream",
     "text": [
      "Requirement already satisfied: numpy in c:\\program files\\python311\\lib\\site-packages (1.26.1)\n"
     ]
    },
    {
     "name": "stderr",
     "output_type": "stream",
     "text": [
      "\n",
      "[notice] A new release of pip is available: 23.2.1 -> 23.3.1\n",
      "[notice] To update, run: python.exe -m pip install --upgrade pip\n"
     ]
    }
   ],
   "source": [
    "!pip install numpy"
   ]
  },
  {
   "cell_type": "code",
   "execution_count": 9,
   "id": "14b36430",
   "metadata": {},
   "outputs": [],
   "source": [
    "import numpy as np"
   ]
  },
  {
   "cell_type": "code",
   "execution_count": 10,
   "id": "18c08da5",
   "metadata": {},
   "outputs": [
    {
     "data": {
      "text/plain": [
       "<ufunc 'absolute'>"
      ]
     },
     "execution_count": 10,
     "metadata": {},
     "output_type": "execute_result"
    }
   ],
   "source": [
    "np.abs"
   ]
  },
  {
   "cell_type": "markdown",
   "id": "dda204d3",
   "metadata": {},
   "source": [
    "Una de las características más importantes de NumPy es su array\n",
    "multidimensional, ndarray, que sirve para almacenar conjuntos de\n",
    "datos. Este tipo de objeto permite realizar operaciones\n",
    "matemáticas en bloques de datos completos de una manera muy\n",
    "natural.\n",
    "\n",
    "- Creación de un array: \n",
    "\n",
    "**np.array()** : Crea un array y devuelve una referencia a él. El número de dimensiones del array dependerá de las listas o tuplas anidadas en lista:\n",
    "\n",
    "- Para una lista de valores se crea un array de *una dimensión*, también conocido como **vector**.\n",
    "\n",
    "- Para una lista de listas de valores se crea un array de *dos dimensiones*, también conocido como **matriz**.\n",
    "\n",
    "- Para una lista de listas de listas de valores se crea un array de *tres dimensiones*, también conocido como **cubo**.\n",
    "\n",
    "- Y así sucesivamente. No hay límite en el número de dimensiones del array más allá de la memoria disponible en el sistema.\n",
    "\n",
    "**Importante:** Los datos que contiene un objeto de tipo ndarray son homogéneos,\n",
    "es decir, todos los elementos deben ser del mismo tipo.\n",
    "\n",
    "Un array puede ser un número, se considera entonces como un array de 0 dimensiones."
   ]
  },
  {
   "cell_type": "code",
   "execution_count": 12,
   "id": "0801653e-5535-4b7c-b198-e3eccdc54c29",
   "metadata": {},
   "outputs": [
    {
     "name": "stdout",
     "output_type": "stream",
     "text": [
      "80\n"
     ]
    }
   ],
   "source": [
    "array_0= np.array(80)\n",
    "print(array_0)"
   ]
  },
  {
   "cell_type": "code",
   "execution_count": 13,
   "id": "3b3e7563-3e64-4bd5-b936-276de6e61267",
   "metadata": {},
   "outputs": [
    {
     "data": {
      "text/plain": [
       "4"
      ]
     },
     "execution_count": 13,
     "metadata": {},
     "output_type": "execute_result"
    }
   ],
   "source": [
    "array_0.itemsize"
   ]
  },
  {
   "cell_type": "code",
   "execution_count": 14,
   "id": "9f876fd1-de18-4fbf-884e-dade4af25ca7",
   "metadata": {},
   "outputs": [
    {
     "data": {
      "text/plain": [
       "()"
      ]
     },
     "execution_count": 14,
     "metadata": {},
     "output_type": "execute_result"
    }
   ],
   "source": [
    "array_0.ndim\n",
    "array_0.shape"
   ]
  },
  {
   "cell_type": "code",
   "execution_count": 15,
   "id": "48f3bafc",
   "metadata": {},
   "outputs": [
    {
     "data": {
      "text/plain": [
       "array([ 1,  2,  3,  5,  7, 11])"
      ]
     },
     "execution_count": 15,
     "metadata": {},
     "output_type": "execute_result"
    }
   ],
   "source": [
    "# Array de una dimensión\n",
    "array_1 = np.array([1, 2, 3, 5, 7, 11])\n",
    "array_1"
   ]
  },
  {
   "cell_type": "code",
   "execution_count": null,
   "id": "0161052f-c8e5-44cc-92bd-1ea75e38e64f",
   "metadata": {},
   "outputs": [],
   "source": []
  },
  {
   "cell_type": "code",
   "execution_count": 16,
   "id": "5538fa96",
   "metadata": {},
   "outputs": [
    {
     "name": "stdout",
     "output_type": "stream",
     "text": [
      "[[  1   2   3   5   7  11]\n",
      " [  1   4   9  25  49 121]]\n"
     ]
    }
   ],
   "source": [
    "# Array de dos dimensiones\n",
    "array_2 = np.array([[1, 2, 3, 5, 7, 11],[1, 4, 9, 25, 49, 121]])\n",
    "print(array_2)"
   ]
  },
  {
   "cell_type": "code",
   "execution_count": 17,
   "id": "19202676",
   "metadata": {},
   "outputs": [
    {
     "name": "stdout",
     "output_type": "stream",
     "text": [
      "[[[  1   2   3   5   7  11]\n",
      "  [  1   4   9  25  49 121]]\n",
      "\n",
      " [[  1   2   3   5   7  11]\n",
      "  [  1   4   9  25  49 121]]]\n"
     ]
    }
   ],
   "source": [
    "# Array de tres dimensiones\n",
    "array_3 = np.array([[[1, 2, 3, 5, 7, 11],[1, 4, 9, 25, 49, 121]],[[1, 2, 3, 5, 7, 11],[1, 4, 9, 25, 49, 121]]])\n",
    "print(array_3)"
   ]
  },
  {
   "cell_type": "markdown",
   "id": "1667f397",
   "metadata": {},
   "source": [
    "#### Tipos de datos para ndarray\n",
    "\n",
    "Los tipos de datos son una de las partes que hace a NumPy tan\n",
    "flexible. En la mayoría de los casos, estos tipos de datos tienen un\n",
    "mapeo directo con su representación en memoria, facilitando a la\n",
    "máquina la lectura y escritura de los mismos."
   ]
  },
  {
   "cell_type": "code",
   "execution_count": 18,
   "id": "8686af51",
   "metadata": {},
   "outputs": [
    {
     "data": {
      "text/plain": [
       "array([1., 2., 3.])"
      ]
     },
     "execution_count": 18,
     "metadata": {},
     "output_type": "execute_result"
    }
   ],
   "source": [
    "arr1 = np.array([1, 2, 3], dtype=np.float64)\n",
    "arr1"
   ]
  },
  {
   "cell_type": "code",
   "execution_count": 19,
   "id": "fb3e0453",
   "metadata": {},
   "outputs": [
    {
     "name": "stderr",
     "output_type": "stream",
     "text": [
      "C:\\Users\\mmarc\\AppData\\Local\\Temp\\ipykernel_21080\\3810206640.py:1: DeprecationWarning: NumPy will stop allowing conversion of out-of-bound Python integers to integer arrays.  The conversion of 300 to int8 will fail in the future.\n",
      "For the old behavior, usually:\n",
      "    np.array(value).astype(dtype)\n",
      "will give the desired result (the cast overflows).\n",
      "  arr2 = np.array([1, 2, 300, 500], dtype=np.int8)\n",
      "C:\\Users\\mmarc\\AppData\\Local\\Temp\\ipykernel_21080\\3810206640.py:1: DeprecationWarning: NumPy will stop allowing conversion of out-of-bound Python integers to integer arrays.  The conversion of 500 to int8 will fail in the future.\n",
      "For the old behavior, usually:\n",
      "    np.array(value).astype(dtype)\n",
      "will give the desired result (the cast overflows).\n",
      "  arr2 = np.array([1, 2, 300, 500], dtype=np.int8)\n"
     ]
    },
    {
     "data": {
      "text/plain": [
       "array([  1,   2,  44, -12], dtype=int8)"
      ]
     },
     "execution_count": 19,
     "metadata": {},
     "output_type": "execute_result"
    }
   ],
   "source": [
    "arr2 = np.array([1, 2, 300, 500], dtype=np.int8)\n",
    "arr2"
   ]
  },
  {
   "cell_type": "code",
   "execution_count": 20,
   "id": "c8e2e684",
   "metadata": {},
   "outputs": [
    {
     "name": "stdout",
     "output_type": "stream",
     "text": [
      "Machine parameters for int32\n",
      "---------------------------------------------------------------\n",
      "min = -2147483648\n",
      "max = 2147483647\n",
      "---------------------------------------------------------------\n",
      "\n",
      "Machine parameters for int8\n",
      "---------------------------------------------------------------\n",
      "min = -128\n",
      "max = 127\n",
      "---------------------------------------------------------------\n",
      "\n",
      "Machine parameters for int16\n",
      "---------------------------------------------------------------\n",
      "min = -32768\n",
      "max = 32767\n",
      "---------------------------------------------------------------\n",
      "\n",
      "Machine parameters for int32\n",
      "---------------------------------------------------------------\n",
      "min = -2147483648\n",
      "max = 2147483647\n",
      "---------------------------------------------------------------\n",
      "\n",
      "Machine parameters for int64\n",
      "---------------------------------------------------------------\n",
      "min = -9223372036854775808\n",
      "max = 9223372036854775807\n",
      "---------------------------------------------------------------\n",
      "\n"
     ]
    }
   ],
   "source": [
    "tipos = [int, np.int8, np.int16, np.int32, np.int64]\n",
    "for k in tipos:\n",
    "    print(np.iinfo(k))"
   ]
  },
  {
   "cell_type": "code",
   "execution_count": 21,
   "id": "cf5cad1e",
   "metadata": {},
   "outputs": [
    {
     "ename": "AttributeError",
     "evalue": "module 'numpy' has no attribute 'float128'",
     "output_type": "error",
     "traceback": [
      "\u001b[1;31m---------------------------------------------------------------------------\u001b[0m",
      "\u001b[1;31mAttributeError\u001b[0m                            Traceback (most recent call last)",
      "Cell \u001b[1;32mIn[21], line 1\u001b[0m\n\u001b[1;32m----> 1\u001b[0m tipos_float \u001b[38;5;241m=\u001b[39m [\u001b[38;5;28mfloat\u001b[39m, np\u001b[38;5;241m.\u001b[39mfloat16, np\u001b[38;5;241m.\u001b[39mfloat32, np\u001b[38;5;241m.\u001b[39mfloat64, \u001b[43mnp\u001b[49m\u001b[38;5;241;43m.\u001b[39;49m\u001b[43mfloat128\u001b[49m]\n\u001b[0;32m      2\u001b[0m \u001b[38;5;28;01mfor\u001b[39;00m s \u001b[38;5;129;01min\u001b[39;00m tipos_float:\n\u001b[0;32m      3\u001b[0m     \u001b[38;5;28mprint\u001b[39m(np\u001b[38;5;241m.\u001b[39mfinfo(s))\n",
      "File \u001b[1;32mC:\\Program Files\\Python311\\Lib\\site-packages\\numpy\\__init__.py:347\u001b[0m, in \u001b[0;36m__getattr__\u001b[1;34m(attr)\u001b[0m\n\u001b[0;32m    344\u001b[0m     \u001b[38;5;124m\"\u001b[39m\u001b[38;5;124mRemoved in NumPy 1.25.0\u001b[39m\u001b[38;5;124m\"\u001b[39m\n\u001b[0;32m    345\u001b[0m     \u001b[38;5;28;01mraise\u001b[39;00m \u001b[38;5;167;01mRuntimeError\u001b[39;00m(\u001b[38;5;124m\"\u001b[39m\u001b[38;5;124mTester was removed in NumPy 1.25.\u001b[39m\u001b[38;5;124m\"\u001b[39m)\n\u001b[1;32m--> 347\u001b[0m \u001b[38;5;28;01mraise\u001b[39;00m \u001b[38;5;167;01mAttributeError\u001b[39;00m(\u001b[38;5;124m\"\u001b[39m\u001b[38;5;124mmodule \u001b[39m\u001b[38;5;132;01m{!r}\u001b[39;00m\u001b[38;5;124m has no attribute \u001b[39m\u001b[38;5;124m\"\u001b[39m\n\u001b[0;32m    348\u001b[0m                      \u001b[38;5;124m\"\u001b[39m\u001b[38;5;132;01m{!r}\u001b[39;00m\u001b[38;5;124m\"\u001b[39m\u001b[38;5;241m.\u001b[39mformat(\u001b[38;5;18m__name__\u001b[39m, attr))\n",
      "\u001b[1;31mAttributeError\u001b[0m: module 'numpy' has no attribute 'float128'"
     ]
    }
   ],
   "source": [
    "tipos_float = [float, np.float16, np.float32, np.float64, np.float128]\n",
    "for s in tipos_float:\n",
    "    print(np.finfo(s))"
   ]
  },
  {
   "cell_type": "code",
   "execution_count": 22,
   "id": "aa95806f",
   "metadata": {},
   "outputs": [
    {
     "ename": "AttributeError",
     "evalue": "module 'numpy' has no attribute 'complex256'",
     "output_type": "error",
     "traceback": [
      "\u001b[1;31m---------------------------------------------------------------------------\u001b[0m",
      "\u001b[1;31mAttributeError\u001b[0m                            Traceback (most recent call last)",
      "Cell \u001b[1;32mIn[22], line 1\u001b[0m\n\u001b[1;32m----> 1\u001b[0m tipos_complex \u001b[38;5;241m=\u001b[39m [\u001b[38;5;28mcomplex\u001b[39m, np\u001b[38;5;241m.\u001b[39mcomplex64, np\u001b[38;5;241m.\u001b[39mcomplex128, \u001b[43mnp\u001b[49m\u001b[38;5;241;43m.\u001b[39;49m\u001b[43mcomplex256\u001b[49m]\n\u001b[0;32m      2\u001b[0m \u001b[38;5;28;01mfor\u001b[39;00m s \u001b[38;5;129;01min\u001b[39;00m tipos_complex:\n\u001b[0;32m      3\u001b[0m     \u001b[38;5;28mprint\u001b[39m(np\u001b[38;5;241m.\u001b[39mfinfo(s))\n",
      "File \u001b[1;32mC:\\Program Files\\Python311\\Lib\\site-packages\\numpy\\__init__.py:347\u001b[0m, in \u001b[0;36m__getattr__\u001b[1;34m(attr)\u001b[0m\n\u001b[0;32m    344\u001b[0m     \u001b[38;5;124m\"\u001b[39m\u001b[38;5;124mRemoved in NumPy 1.25.0\u001b[39m\u001b[38;5;124m\"\u001b[39m\n\u001b[0;32m    345\u001b[0m     \u001b[38;5;28;01mraise\u001b[39;00m \u001b[38;5;167;01mRuntimeError\u001b[39;00m(\u001b[38;5;124m\"\u001b[39m\u001b[38;5;124mTester was removed in NumPy 1.25.\u001b[39m\u001b[38;5;124m\"\u001b[39m)\n\u001b[1;32m--> 347\u001b[0m \u001b[38;5;28;01mraise\u001b[39;00m \u001b[38;5;167;01mAttributeError\u001b[39;00m(\u001b[38;5;124m\"\u001b[39m\u001b[38;5;124mmodule \u001b[39m\u001b[38;5;132;01m{!r}\u001b[39;00m\u001b[38;5;124m has no attribute \u001b[39m\u001b[38;5;124m\"\u001b[39m\n\u001b[0;32m    348\u001b[0m                      \u001b[38;5;124m\"\u001b[39m\u001b[38;5;132;01m{!r}\u001b[39;00m\u001b[38;5;124m\"\u001b[39m\u001b[38;5;241m.\u001b[39mformat(\u001b[38;5;18m__name__\u001b[39m, attr))\n",
      "\u001b[1;31mAttributeError\u001b[0m: module 'numpy' has no attribute 'complex256'"
     ]
    }
   ],
   "source": [
    "tipos_complex = [complex, np.complex64, np.complex128, np.complex256]\n",
    "for s in tipos_complex:\n",
    "    print(np.finfo(s))"
   ]
  },
  {
   "cell_type": "markdown",
   "id": "2f6ca087",
   "metadata": {},
   "source": [
    "### Atributos de un array\n",
    "\n",
    "Existen varios atributos y funciones que describen las características de un array.\n",
    "\n",
    "**a.ndim** : Devuelve el número de dimensiones del array a.\n",
    "\n",
    "**a.shape**: Devuelve una tupla con las dimensiones del array a.\n",
    "\n",
    "**a.size** : Devuelve el número de elementos del array a.\n",
    "\n",
    "**a.dtype**: Devuelve el tipo de datos de los elementos del array a."
   ]
  },
  {
   "cell_type": "code",
   "execution_count": 23,
   "id": "f7ab500b",
   "metadata": {},
   "outputs": [
    {
     "name": "stdout",
     "output_type": "stream",
     "text": [
      "0\n",
      "1\n",
      "2\n",
      "3\n"
     ]
    }
   ],
   "source": [
    "print(array_0.ndim)\n",
    "print(array_1.ndim)\n",
    "print(array_2.ndim)\n",
    "print(array_3.ndim)"
   ]
  },
  {
   "cell_type": "code",
   "execution_count": 24,
   "id": "02ca13ae",
   "metadata": {},
   "outputs": [
    {
     "name": "stdout",
     "output_type": "stream",
     "text": [
      "()\n",
      "(6,)\n",
      "(2, 6)\n",
      "(2, 2, 6)\n"
     ]
    }
   ],
   "source": [
    "print(array_0.shape)\n",
    "print(array_1.shape)\n",
    "print(array_2.shape)\n",
    "print(array_3.shape)"
   ]
  },
  {
   "cell_type": "code",
   "execution_count": 25,
   "id": "d60348ed",
   "metadata": {},
   "outputs": [
    {
     "name": "stdout",
     "output_type": "stream",
     "text": [
      "1\n",
      "6\n",
      "12\n",
      "24\n"
     ]
    }
   ],
   "source": [
    "print(array_0.size)\n",
    "print(array_1.size)\n",
    "print(array_2.size)\n",
    "print(array_3.size)"
   ]
  },
  {
   "cell_type": "code",
   "execution_count": 26,
   "id": "37b20f3b",
   "metadata": {},
   "outputs": [
    {
     "name": "stdout",
     "output_type": "stream",
     "text": [
      "int32\n",
      "int32\n",
      "int32\n",
      "int32\n"
     ]
    }
   ],
   "source": [
    "print(array_0.dtype)\n",
    "print(array_1.dtype)\n",
    "print(array_2.dtype)\n",
    "print(array_3.dtype)"
   ]
  },
  {
   "cell_type": "markdown",
   "id": "a8a0f927",
   "metadata": {},
   "source": [
    "- Reshape: Da una nueva forma a un array sin cambiar sus datos\n",
    "\n",
    "\n",
    "Como apunte importante, cuando usamos el método reshape el\n",
    "número total de elementos en el array tras aplicar la\n",
    "transformación debe ser el mismo. De esta forma, se nos permite\n",
    "transformar un array con 4 filas y 5 columnas en uno con 10 filas y\n",
    "2 columnas pero no en uno con 5 filas y 5 columnas.\n",
    "\n",
    "\n",
    "https://numpy.org/doc/stable/reference/generated/numpy.reshape.html"
   ]
  },
  {
   "cell_type": "code",
   "execution_count": 27,
   "id": "60613cca",
   "metadata": {},
   "outputs": [
    {
     "data": {
      "text/plain": [
       "array([[[  1,   2,   3,   5,   7,  11],\n",
       "        [  1,   4,   9,  25,  49, 121]],\n",
       "\n",
       "       [[  1,   2,   3,   5,   7,  11],\n",
       "        [  1,   4,   9,  25,  49, 121]]])"
      ]
     },
     "execution_count": 27,
     "metadata": {},
     "output_type": "execute_result"
    }
   ],
   "source": [
    "array_3"
   ]
  },
  {
   "cell_type": "code",
   "execution_count": 28,
   "id": "2b5b2817",
   "metadata": {},
   "outputs": [
    {
     "data": {
      "text/plain": [
       "(2, 2, 6)"
      ]
     },
     "execution_count": 28,
     "metadata": {},
     "output_type": "execute_result"
    }
   ],
   "source": [
    "array_3.shape"
   ]
  },
  {
   "cell_type": "code",
   "execution_count": 29,
   "id": "893319d1",
   "metadata": {},
   "outputs": [
    {
     "data": {
      "text/plain": [
       "array([[  1,   2,   3,   5],\n",
       "       [  7,  11,   1,   4],\n",
       "       [  9,  25,  49, 121],\n",
       "       [  1,   2,   3,   5],\n",
       "       [  7,  11,   1,   4],\n",
       "       [  9,  25,  49, 121]])"
      ]
     },
     "execution_count": 29,
     "metadata": {},
     "output_type": "execute_result"
    }
   ],
   "source": [
    "array_3.reshape(6,4)"
   ]
  },
  {
   "cell_type": "code",
   "execution_count": 30,
   "id": "9ef4b832",
   "metadata": {},
   "outputs": [
    {
     "data": {
      "text/plain": [
       "array([[  1],\n",
       "       [  2],\n",
       "       [  3],\n",
       "       [  5],\n",
       "       [  7],\n",
       "       [ 11],\n",
       "       [  1],\n",
       "       [  4],\n",
       "       [  9],\n",
       "       [ 25],\n",
       "       [ 49],\n",
       "       [121],\n",
       "       [  1],\n",
       "       [  2],\n",
       "       [  3],\n",
       "       [  5],\n",
       "       [  7],\n",
       "       [ 11],\n",
       "       [  1],\n",
       "       [  4],\n",
       "       [  9],\n",
       "       [ 25],\n",
       "       [ 49],\n",
       "       [121]])"
      ]
     },
     "execution_count": 30,
     "metadata": {},
     "output_type": "execute_result"
    }
   ],
   "source": [
    "array_3.reshape(24,1)"
   ]
  },
  {
   "cell_type": "markdown",
   "id": "72dfd630",
   "metadata": {},
   "source": [
    "**np.empty(dimensiones)**: Crea y devuelve una referencia a un array vacío con las dimensiones especificadas en la tupla dimensiones.\n",
    "\n",
    "**np.zeros(dimensiones)** : Crea y devuelve una referencia a un array con las dimensiones especificadas en la tupla dimensiones cuyos elementos son todos ceros.\n",
    "\n",
    "**np.ones(dimensiones)** : Crea y devuelve una referencia a un array con las dimensiones especificadas en la tupla dimensiones cuyos elementos son todos unos.\n",
    "\n",
    "**np.full(dimensiones, valor)** : Crea y devuelve una referencia a un array con las dimensiones especificadas en la tupla dimensiones cuyos elementos son todos valor.\n",
    "\n",
    "**np.identity(n)** : Crea y devuelve una referencia a la matriz identidad de dimensión n.\n",
    "\n",
    "**np.arange(inicio, fin, salto)** : Crea y devuelve una referencia a un array de una dimensión cuyos elementos son la secuencia desde inicio hasta fin tomando valores cada salto.\n",
    "\n",
    "**np.linspace(inicio, fin, n)** : Crea y devuelve una referencia a un array de una dimensión cuyos elementos son la secuencia de n valores equidistantes desde inicio hasta fin.\n",
    "\n",
    "**np.random.randn(dimensiones)** : Crea y devuelve una referencia a un array con las dimensiones especificadas en la tupla dimensiones cuyos elementos son aleatorios."
   ]
  },
  {
   "cell_type": "markdown",
   "id": "d58b5e36-298d-4842-b0c6-cf2f53fd3c4e",
   "metadata": {},
   "source": [
    "## Ejercicio de clase crear y multiplicar matrices"
   ]
  },
  {
   "cell_type": "code",
   "execution_count": 31,
   "id": "55f9a5f5-4b38-4f2d-bb6d-fd3d49276f6c",
   "metadata": {},
   "outputs": [
    {
     "name": "stdout",
     "output_type": "stream",
     "text": [
      "[[0. 0. 0. 0. 0. 0.]\n",
      " [0. 0. 0. 0. 0. 0.]\n",
      " [0. 0. 0. 0. 0. 0.]\n",
      " [0. 0. 0. 0. 0. 0.]\n",
      " [0. 0. 0. 0. 0. 0.]\n",
      " [0. 0. 0. 0. 0. 0.]\n",
      " [0. 0. 0. 0. 0. 0.]\n",
      " [0. 0. 0. 0. 0. 0.]\n",
      " [0. 0. 0. 0. 0. 0.]\n",
      " [0. 0. 0. 0. 0. 0.]\n",
      " [0. 0. 0. 0. 0. 0.]\n",
      " [0. 0. 0. 0. 0. 0.]\n",
      " [0. 0. 0. 0. 0. 0.]\n",
      " [0. 0. 0. 0. 0. 0.]\n",
      " [0. 0. 0. 0. 0. 0.]\n",
      " [0. 0. 0. 0. 0. 0.]\n",
      " [0. 0. 0. 0. 0. 0.]\n",
      " [0. 0. 0. 0. 0. 0.]\n",
      " [0. 0. 0. 0. 0. 0.]\n",
      " [0. 0. 0. 0. 0. 0.]\n",
      " [0. 0. 0. 0. 0. 0.]\n",
      " [0. 0. 0. 0. 0. 0.]\n",
      " [0. 0. 0. 0. 0. 0.]\n",
      " [0. 0. 0. 0. 0. 0.]\n",
      " [0. 0. 0. 0. 0. 0.]\n",
      " [0. 0. 0. 0. 0. 0.]\n",
      " [0. 0. 0. 0. 0. 0.]\n",
      " [0. 0. 0. 0. 0. 0.]\n",
      " [0. 0. 0. 0. 0. 0.]\n",
      " [0. 0. 0. 0. 0. 0.]\n",
      " [0. 0. 0. 0. 0. 0.]\n",
      " [0. 0. 0. 0. 0. 0.]\n",
      " [0. 0. 0. 0. 0. 0.]\n",
      " [0. 0. 0. 0. 0. 0.]\n",
      " [0. 0. 0. 0. 0. 0.]\n",
      " [0. 0. 0. 0. 0. 0.]\n",
      " [0. 0. 0. 0. 0. 0.]\n",
      " [0. 0. 0. 0. 0. 0.]\n",
      " [0. 0. 0. 0. 0. 0.]\n",
      " [0. 0. 0. 0. 0. 0.]]\n",
      "[[0. 0. 0. 0. 0. 0. 0. 0. 0. 0. 0. 0. 0. 0. 0. 0. 0. 0. 0. 0.]\n",
      " [0. 0. 0. 0. 0. 0. 0. 0. 0. 0. 0. 0. 0. 0. 0. 0. 0. 0. 0. 0.]\n",
      " [0. 0. 0. 0. 0. 0. 0. 0. 0. 0. 0. 0. 0. 0. 0. 0. 0. 0. 0. 0.]\n",
      " [0. 0. 0. 0. 0. 0. 0. 0. 0. 0. 0. 0. 0. 0. 0. 0. 0. 0. 0. 0.]\n",
      " [0. 0. 0. 0. 0. 0. 0. 0. 0. 0. 0. 0. 0. 0. 0. 0. 0. 0. 0. 0.]\n",
      " [0. 0. 0. 0. 0. 0. 0. 0. 0. 0. 0. 0. 0. 0. 0. 0. 0. 0. 0. 0.]]\n"
     ]
    }
   ],
   "source": [
    "array_a=np.zeros((40,6))\n",
    "array_b=np.zeros((6,20))\n",
    "print(array_a)\n",
    "print(array_b)"
   ]
  },
  {
   "cell_type": "code",
   "execution_count": 32,
   "id": "fe98c840-0a7e-4fd7-a283-49bc1bf69e36",
   "metadata": {
    "scrolled": true
   },
   "outputs": [
    {
     "name": "stdout",
     "output_type": "stream",
     "text": [
      "[[0. 0. 0. 0. 0. 0. 0. 0. 0. 0. 0. 0. 0. 0. 0. 0. 0. 0. 0. 0.]\n",
      " [0. 0. 0. 0. 0. 0. 0. 0. 0. 0. 0. 0. 0. 0. 0. 0. 0. 0. 0. 0.]\n",
      " [0. 0. 0. 0. 0. 0. 0. 0. 0. 0. 0. 0. 0. 0. 0. 0. 0. 0. 0. 0.]\n",
      " [0. 0. 0. 0. 0. 0. 0. 0. 0. 0. 0. 0. 0. 0. 0. 0. 0. 0. 0. 0.]\n",
      " [0. 0. 0. 0. 0. 0. 0. 0. 0. 0. 0. 0. 0. 0. 0. 0. 0. 0. 0. 0.]\n",
      " [0. 0. 0. 0. 0. 0. 0. 0. 0. 0. 0. 0. 0. 0. 0. 0. 0. 0. 0. 0.]\n",
      " [0. 0. 0. 0. 0. 0. 0. 0. 0. 0. 0. 0. 0. 0. 0. 0. 0. 0. 0. 0.]\n",
      " [0. 0. 0. 0. 0. 0. 0. 0. 0. 0. 0. 0. 0. 0. 0. 0. 0. 0. 0. 0.]\n",
      " [0. 0. 0. 0. 0. 0. 0. 0. 0. 0. 0. 0. 0. 0. 0. 0. 0. 0. 0. 0.]\n",
      " [0. 0. 0. 0. 0. 0. 0. 0. 0. 0. 0. 0. 0. 0. 0. 0. 0. 0. 0. 0.]\n",
      " [0. 0. 0. 0. 0. 0. 0. 0. 0. 0. 0. 0. 0. 0. 0. 0. 0. 0. 0. 0.]\n",
      " [0. 0. 0. 0. 0. 0. 0. 0. 0. 0. 0. 0. 0. 0. 0. 0. 0. 0. 0. 0.]\n",
      " [0. 0. 0. 0. 0. 0. 0. 0. 0. 0. 0. 0. 0. 0. 0. 0. 0. 0. 0. 0.]\n",
      " [0. 0. 0. 0. 0. 0. 0. 0. 0. 0. 0. 0. 0. 0. 0. 0. 0. 0. 0. 0.]\n",
      " [0. 0. 0. 0. 0. 0. 0. 0. 0. 0. 0. 0. 0. 0. 0. 0. 0. 0. 0. 0.]\n",
      " [0. 0. 0. 0. 0. 0. 0. 0. 0. 0. 0. 0. 0. 0. 0. 0. 0. 0. 0. 0.]\n",
      " [0. 0. 0. 0. 0. 0. 0. 0. 0. 0. 0. 0. 0. 0. 0. 0. 0. 0. 0. 0.]\n",
      " [0. 0. 0. 0. 0. 0. 0. 0. 0. 0. 0. 0. 0. 0. 0. 0. 0. 0. 0. 0.]\n",
      " [0. 0. 0. 0. 0. 0. 0. 0. 0. 0. 0. 0. 0. 0. 0. 0. 0. 0. 0. 0.]\n",
      " [0. 0. 0. 0. 0. 0. 0. 0. 0. 0. 0. 0. 0. 0. 0. 0. 0. 0. 0. 0.]\n",
      " [0. 0. 0. 0. 0. 0. 0. 0. 0. 0. 0. 0. 0. 0. 0. 0. 0. 0. 0. 0.]\n",
      " [0. 0. 0. 0. 0. 0. 0. 0. 0. 0. 0. 0. 0. 0. 0. 0. 0. 0. 0. 0.]\n",
      " [0. 0. 0. 0. 0. 0. 0. 0. 0. 0. 0. 0. 0. 0. 0. 0. 0. 0. 0. 0.]\n",
      " [0. 0. 0. 0. 0. 0. 0. 0. 0. 0. 0. 0. 0. 0. 0. 0. 0. 0. 0. 0.]\n",
      " [0. 0. 0. 0. 0. 0. 0. 0. 0. 0. 0. 0. 0. 0. 0. 0. 0. 0. 0. 0.]\n",
      " [0. 0. 0. 0. 0. 0. 0. 0. 0. 0. 0. 0. 0. 0. 0. 0. 0. 0. 0. 0.]\n",
      " [0. 0. 0. 0. 0. 0. 0. 0. 0. 0. 0. 0. 0. 0. 0. 0. 0. 0. 0. 0.]\n",
      " [0. 0. 0. 0. 0. 0. 0. 0. 0. 0. 0. 0. 0. 0. 0. 0. 0. 0. 0. 0.]\n",
      " [0. 0. 0. 0. 0. 0. 0. 0. 0. 0. 0. 0. 0. 0. 0. 0. 0. 0. 0. 0.]\n",
      " [0. 0. 0. 0. 0. 0. 0. 0. 0. 0. 0. 0. 0. 0. 0. 0. 0. 0. 0. 0.]\n",
      " [0. 0. 0. 0. 0. 0. 0. 0. 0. 0. 0. 0. 0. 0. 0. 0. 0. 0. 0. 0.]\n",
      " [0. 0. 0. 0. 0. 0. 0. 0. 0. 0. 0. 0. 0. 0. 0. 0. 0. 0. 0. 0.]\n",
      " [0. 0. 0. 0. 0. 0. 0. 0. 0. 0. 0. 0. 0. 0. 0. 0. 0. 0. 0. 0.]\n",
      " [0. 0. 0. 0. 0. 0. 0. 0. 0. 0. 0. 0. 0. 0. 0. 0. 0. 0. 0. 0.]\n",
      " [0. 0. 0. 0. 0. 0. 0. 0. 0. 0. 0. 0. 0. 0. 0. 0. 0. 0. 0. 0.]\n",
      " [0. 0. 0. 0. 0. 0. 0. 0. 0. 0. 0. 0. 0. 0. 0. 0. 0. 0. 0. 0.]\n",
      " [0. 0. 0. 0. 0. 0. 0. 0. 0. 0. 0. 0. 0. 0. 0. 0. 0. 0. 0. 0.]\n",
      " [0. 0. 0. 0. 0. 0. 0. 0. 0. 0. 0. 0. 0. 0. 0. 0. 0. 0. 0. 0.]\n",
      " [0. 0. 0. 0. 0. 0. 0. 0. 0. 0. 0. 0. 0. 0. 0. 0. 0. 0. 0. 0.]\n",
      " [0. 0. 0. 0. 0. 0. 0. 0. 0. 0. 0. 0. 0. 0. 0. 0. 0. 0. 0. 0.]]\n"
     ]
    }
   ],
   "source": [
    "resultado = np.dot(array_a,array_b)\n",
    "print (resultado)"
   ]
  },
  {
   "cell_type": "code",
   "execution_count": 33,
   "id": "437fd529-52b1-4911-930b-e2697ad0d8dd",
   "metadata": {},
   "outputs": [],
   "source": [
    "for i in range (300):\n",
    "    for j in range (300):\n",
    "        a=[i,j]"
   ]
  },
  {
   "cell_type": "code",
   "execution_count": 34,
   "id": "50d64135-764a-433f-8940-c1c685e69305",
   "metadata": {},
   "outputs": [],
   "source": [
    "import random as rd"
   ]
  },
  {
   "cell_type": "code",
   "execution_count": 35,
   "id": "492958b8-1096-463c-9103-bd5db4262865",
   "metadata": {},
   "outputs": [],
   "source": [
    "A=[[rd.randint(0,221) for i in range(10)] for j in range(10)]"
   ]
  },
  {
   "cell_type": "code",
   "execution_count": 36,
   "id": "025e2bed-0639-43f2-8a70-5d06ecff4f6f",
   "metadata": {
    "scrolled": true
   },
   "outputs": [
    {
     "data": {
      "text/plain": [
       "[[6, 114, 182, 125, 106, 87, 157, 204, 202, 14],\n",
       " [207, 151, 0, 130, 16, 203, 125, 3, 173, 49],\n",
       " [87, 151, 206, 44, 215, 176, 155, 39, 108, 72],\n",
       " [80, 6, 111, 167, 84, 184, 19, 174, 185, 119],\n",
       " [189, 166, 0, 14, 203, 2, 54, 195, 192, 81],\n",
       " [31, 5, 66, 67, 165, 147, 158, 198, 199, 95],\n",
       " [6, 168, 19, 128, 57, 199, 43, 166, 114, 154],\n",
       " [36, 164, 41, 203, 37, 71, 103, 35, 201, 54],\n",
       " [201, 35, 99, 85, 174, 29, 114, 73, 220, 23],\n",
       " [35, 101, 43, 20, 79, 117, 109, 16, 202, 92]]"
      ]
     },
     "execution_count": 36,
     "metadata": {},
     "output_type": "execute_result"
    }
   ],
   "source": [
    "A"
   ]
  },
  {
   "cell_type": "code",
   "execution_count": 13,
   "id": "9e57e4de-a65a-486e-b651-7f5ee8d2dea6",
   "metadata": {},
   "outputs": [],
   "source": []
  },
  {
   "cell_type": "code",
   "execution_count": 37,
   "id": "6618e8aa-7cee-449c-a24e-f8e98890ddfd",
   "metadata": {},
   "outputs": [],
   "source": [
    "fil_B=5\n",
    "col_B=8\n",
    "B=[[rd.randint(0,215) for i in range(fil_B)] for j in range(col_B)]\n"
   ]
  },
  {
   "cell_type": "code",
   "execution_count": 38,
   "id": "653986b5-f4a1-4875-b7c5-22b61656ecff",
   "metadata": {},
   "outputs": [
    {
     "name": "stdout",
     "output_type": "stream",
     "text": [
      "Tarugo, para multiplicar deben ser compatibles, vuelve a generar\n"
     ]
    }
   ],
   "source": [
    "if len(A[0])==len(B):\n",
    "    print('La matriz es compatble con la matriz B')\n",
    "else:\n",
    "    print('Tarugo, para multiplicar deben ser compatibles, vuelve a generar')"
   ]
  },
  {
   "cell_type": "code",
   "execution_count": 39,
   "id": "8af0bdba-36a5-49e7-a524-a402d6b67f02",
   "metadata": {},
   "outputs": [],
   "source": [
    "import multiprocessing as mp"
   ]
  },
  {
   "cell_type": "code",
   "execution_count": 40,
   "id": "1119ac77-892a-44aa-88fe-9fd269247cce",
   "metadata": {
    "scrolled": true
   },
   "outputs": [
    {
     "data": {
      "text/plain": [
       "<bound method BaseContext.RawArray of <multiprocessing.context.DefaultContext object at 0x000002A12651AE10>>"
      ]
     },
     "execution_count": 40,
     "metadata": {},
     "output_type": "execute_result"
    }
   ],
   "source": [
    "mp.RawArray"
   ]
  },
  {
   "cell_type": "markdown",
   "id": "2128886d-56e3-409b-b965-0609c79b5e44",
   "metadata": {},
   "source": [
    "## Multiplicacion secuencial, un \"solo core\""
   ]
  },
  {
   "cell_type": "code",
   "execution_count": 78,
   "id": "751c716e-831a-49db-af37-c0b84919f809",
   "metadata": {},
   "outputs": [],
   "source": [
    "def seq_mult(A,B):\n",
    "    C=[[0]*n_col_B for i in range(n_fil_A)]\n",
    "    for i in range(n_fil_A):\n",
    "        for j in range(n_col_B):\n",
    "            for k in range(n_col_A):\n",
    "              C[i][j]+=A[i][k]*B[k][j] \n",
    "    return C"
   ]
  },
  {
   "cell_type": "code",
   "execution_count": 79,
   "id": "3ff1a3c8-4213-491c-8973-c7e06a3cda25",
   "metadata": {},
   "outputs": [
    {
     "data": {
      "text/plain": [
       "[[18809028845280735,\n",
       "  19231835731080997,\n",
       "  19195784138378906,\n",
       "  22224899170407423,\n",
       "  33113365546387192,\n",
       "  19057717726662080,\n",
       "  21033674655426181,\n",
       "  22659043315780986],\n",
       " [13156591737244195,\n",
       "  13243108761046250,\n",
       "  15729908005688796,\n",
       "  14055610926999365,\n",
       "  26984323193866668,\n",
       "  15895965832463304,\n",
       "  17299627730981852,\n",
       "  18873858152406948],\n",
       " [17648220837337497,\n",
       "  16605538933477603,\n",
       "  20837019125525037,\n",
       "  17241818206706050,\n",
       "  28668448319272184,\n",
       "  17681531305805298,\n",
       "  19975967253619089,\n",
       "  24735119055755968],\n",
       " [25263412309086932,\n",
       "  23386691016041585,\n",
       "  19954434020666315,\n",
       "  25775213289376377,\n",
       "  32672957026089627,\n",
       "  18520438398571015,\n",
       "  22155064572278363,\n",
       "  21809289038174368],\n",
       " [19401139247807449,\n",
       "  18715945917479455,\n",
       "  17865023102938074,\n",
       "  24642813878865683,\n",
       "  27199037802492308,\n",
       "  15034546039086644,\n",
       "  19497509202054660,\n",
       "  22394915577277828],\n",
       " [16126307557846324,\n",
       "  16735411062025044,\n",
       "  17780815703807663,\n",
       "  21067902944794502,\n",
       "  24196546200834304,\n",
       "  15698520723362870,\n",
       "  16751189347899642,\n",
       "  21607199220547647],\n",
       " [18914855039966350,\n",
       "  16646359554747999,\n",
       "  12666273451660483,\n",
       "  22084661824694232,\n",
       "  22261318685629232,\n",
       "  10895655964216530,\n",
       "  16709693663563684,\n",
       "  15364363742910145],\n",
       " [21196104352097857,\n",
       "  20426862842621551,\n",
       "  22956973499537060,\n",
       "  26131674263626602,\n",
       "  34936271834873950,\n",
       "  20679970763574017,\n",
       "  22100174299303021,\n",
       "  28684195178660298],\n",
       " [16778267704005175,\n",
       "  15367083750893162,\n",
       "  17925774388723761,\n",
       "  20240046177717916,\n",
       "  28914053033121029,\n",
       "  17816012853667493,\n",
       "  15697382123119043,\n",
       "  22120650493987978],\n",
       " [16517320875821770,\n",
       "  18890950409828155,\n",
       "  18321612751789585,\n",
       "  20018880266663064,\n",
       "  24896684127800848,\n",
       "  15261447880373866,\n",
       "  17746355782898944,\n",
       "  20785663684490901],\n",
       " [22448532833402668,\n",
       "  24728744956643196,\n",
       "  20080510042567455,\n",
       "  25153842257275956,\n",
       "  35495673746999061,\n",
       "  20088300332702674,\n",
       "  24937815666699199,\n",
       "  21529342056310050],\n",
       " [17299235788013759,\n",
       "  18223021830888218,\n",
       "  19386986192186910,\n",
       "  22186761077950990,\n",
       "  31859771740613400,\n",
       "  18594537773005512,\n",
       "  20655087081972307,\n",
       "  23861799484150661],\n",
       " [15686909223090593,\n",
       "  16091609008718078,\n",
       "  12362704174086416,\n",
       "  15610217369625649,\n",
       "  21488891791889859,\n",
       "  12567150872139616,\n",
       "  15168564208758633,\n",
       "  12303586319222163],\n",
       " [16309564348300125,\n",
       "  13367052382165616,\n",
       "  16113183444249856,\n",
       "  16339009249436308,\n",
       "  19731471108277917,\n",
       "  12251965268340870,\n",
       "  14572240593863010,\n",
       "  19677967626652844],\n",
       " [21146862572053798,\n",
       "  20749151269525810,\n",
       "  18830917316286996,\n",
       "  25256980606028200,\n",
       "  31130876538187344,\n",
       "  17809020041904688,\n",
       "  24235834206319862,\n",
       "  22915443654839140],\n",
       " [10947733702822420,\n",
       "  9422708932177668,\n",
       "  8864353526811316,\n",
       "  13011154229196596,\n",
       "  16050279970938403,\n",
       "  7315372054132002,\n",
       "  11805593180827565,\n",
       "  11778908961665195]]"
      ]
     },
     "execution_count": 79,
     "metadata": {},
     "output_type": "execute_result"
    }
   ],
   "source": [
    "seq_mult(A,B)"
   ]
  },
  {
   "cell_type": "code",
   "execution_count": null,
   "id": "9da540d3-a5fe-42a3-99e7-807b4c4f0908",
   "metadata": {},
   "outputs": [],
   "source": []
  },
  {
   "cell_type": "code",
   "execution_count": 49,
   "id": "35339c05-0133-4e18-b172-505f4faf237e",
   "metadata": {},
   "outputs": [],
   "source": [
    "import random as rd"
   ]
  },
  {
   "cell_type": "code",
   "execution_count": 58,
   "id": "d77c700d-5a20-434a-b9fe-5f1ae766f902",
   "metadata": {},
   "outputs": [],
   "source": [
    " A=[[rd.randint(1,99999999)for i in range(8)]for i in range(16)]"
   ]
  },
  {
   "cell_type": "code",
   "execution_count": 55,
   "id": "89681be1-457a-4b1d-a9bc-fbde18fce74c",
   "metadata": {},
   "outputs": [],
   "source": [
    "B=[[rd.randint(1,99999999)for i in range(16)]for i in range(8)]"
   ]
  },
  {
   "cell_type": "code",
   "execution_count": 63,
   "id": "21e45da7-8778-47df-9c71-38eff4dbb4a3",
   "metadata": {},
   "outputs": [],
   "source": [
    " n_fil_A=len(A)"
   ]
  },
  {
   "cell_type": "code",
   "execution_count": 64,
   "id": "25a9f9a4-b86e-4e80-b4d6-9a1e6616fa44",
   "metadata": {},
   "outputs": [],
   "source": [
    "n_col_B= len(B[0])"
   ]
  },
  {
   "cell_type": "code",
   "execution_count": 65,
   "id": "0d472f8d-bf4c-40dd-88b3-e8ae3e9e807d",
   "metadata": {},
   "outputs": [],
   "source": [
    "n_col_A=len(A[0])"
   ]
  },
  {
   "cell_type": "code",
   "execution_count": 5,
   "id": "d5996ade-b135-4b0c-aa14-1ae9dcee2891",
   "metadata": {},
   "outputs": [
    {
     "data": {
      "text/plain": [
       "[[1, 1, 1, 1, 1, 1, 1, 1, 1, 1],\n",
       " [1, 1, 1, 1, 1, 1, 1, 1, 1, 1],\n",
       " [1, 1, 1, 1, 1, 1, 1, 1, 1, 1],\n",
       " [1, 1, 1, 1, 1, 1, 1, 1, 1, 1],\n",
       " [1, 1, 1, 1, 1, 1, 1, 1, 1, 1],\n",
       " [1, 1, 1, 1, 1, 1, 1, 1, 1, 1],\n",
       " [1, 1, 1, 1, 1, 1, 1, 1, 1, 1],\n",
       " [1, 1, 1, 1, 1, 1, 1, 1, 1, 1],\n",
       " [1, 1, 1, 1, 1, 1, 1, 1, 1, 1],\n",
       " [1, 1, 1, 1, 1, 1, 1, 1, 1, 1]]"
      ]
     },
     "execution_count": 5,
     "metadata": {},
     "output_type": "execute_result"
    }
   ],
   "source": [
    "[[1]*10 for i in range(10)]"
   ]
  },
  {
   "cell_type": "markdown",
   "id": "a6c28af4",
   "metadata": {},
   "source": [
    "### Indexacion\n",
    "\n",
    "##### Introducción: Acceso a los elementos de un array\n",
    "\n",
    "Al igual que para listas, **los índices de cada dimensión comienzan en 0**.\n",
    "\n",
    "También es posible obtener **subarrays** con el operador dos puntos : indicando el índice inicial y el siguiente al final para cada dimensión, de nuevo separados por comas."
   ]
  },
  {
   "cell_type": "code",
   "execution_count": 21,
   "id": "c384a738",
   "metadata": {},
   "outputs": [
    {
     "ename": "NameError",
     "evalue": "name 'array_3' is not defined",
     "output_type": "error",
     "traceback": [
      "\u001b[1;31m---------------------------------------------------------------------------\u001b[0m",
      "\u001b[1;31mNameError\u001b[0m                                 Traceback (most recent call last)",
      "Cell \u001b[1;32mIn[21], line 1\u001b[0m\n\u001b[1;32m----> 1\u001b[0m \u001b[43marray_3\u001b[49m\n",
      "\u001b[1;31mNameError\u001b[0m: name 'array_3' is not defined"
     ]
    }
   ],
   "source": [
    "array_3"
   ]
  },
  {
   "cell_type": "code",
   "execution_count": 22,
   "id": "4d91e01f",
   "metadata": {},
   "outputs": [
    {
     "ename": "NameError",
     "evalue": "name 'array_3' is not defined",
     "output_type": "error",
     "traceback": [
      "\u001b[1;31m---------------------------------------------------------------------------\u001b[0m",
      "\u001b[1;31mNameError\u001b[0m                                 Traceback (most recent call last)",
      "Cell \u001b[1;32mIn[22], line 1\u001b[0m\n\u001b[1;32m----> 1\u001b[0m \u001b[43marray_3\u001b[49m\u001b[38;5;241m.\u001b[39mshape\n",
      "\u001b[1;31mNameError\u001b[0m: name 'array_3' is not defined"
     ]
    }
   ],
   "source": [
    "array_3.shape"
   ]
  },
  {
   "cell_type": "code",
   "execution_count": 23,
   "id": "f6e2b9ed",
   "metadata": {},
   "outputs": [
    {
     "ename": "NameError",
     "evalue": "name 'array_3' is not defined",
     "output_type": "error",
     "traceback": [
      "\u001b[1;31m---------------------------------------------------------------------------\u001b[0m",
      "\u001b[1;31mNameError\u001b[0m                                 Traceback (most recent call last)",
      "Cell \u001b[1;32mIn[23], line 1\u001b[0m\n\u001b[1;32m----> 1\u001b[0m \u001b[43marray_3\u001b[49m[\u001b[38;5;241m0\u001b[39m] \u001b[38;5;66;03m# bloque 1\u001b[39;00m\n",
      "\u001b[1;31mNameError\u001b[0m: name 'array_3' is not defined"
     ]
    }
   ],
   "source": [
    "array_3[0] # bloque 1"
   ]
  },
  {
   "cell_type": "code",
   "execution_count": 22,
   "id": "ca33081c",
   "metadata": {},
   "outputs": [
    {
     "data": {
      "text/plain": [
       "array([  1,   4,   9,  25,  49, 121])"
      ]
     },
     "execution_count": 22,
     "metadata": {},
     "output_type": "execute_result"
    }
   ],
   "source": [
    "array_3[0,1]  # bloque 1 segunda lista"
   ]
  },
  {
   "cell_type": "code",
   "execution_count": 23,
   "id": "cf3a25b0",
   "metadata": {},
   "outputs": [
    {
     "data": {
      "text/plain": [
       "9"
      ]
     },
     "execution_count": 23,
     "metadata": {},
     "output_type": "execute_result"
    }
   ],
   "source": [
    "array_3[0,1,2] ## bloque 1, segunda lista, tercer elemento"
   ]
  },
  {
   "cell_type": "code",
   "execution_count": 24,
   "id": "75a808ad",
   "metadata": {},
   "outputs": [
    {
     "data": {
      "text/plain": [
       "9"
      ]
     },
     "execution_count": 24,
     "metadata": {},
     "output_type": "execute_result"
    }
   ],
   "source": [
    "# otra forma de acceder\n",
    "array_3[0][1][2]"
   ]
  },
  {
   "cell_type": "code",
   "execution_count": 25,
   "id": "ab4664ed",
   "metadata": {},
   "outputs": [
    {
     "name": "stdout",
     "output_type": "stream",
     "text": [
      "[[[ 1  2  3  5  7 11]]\n",
      "\n",
      " [[ 1  2  3  5  7 11]]]\n"
     ]
    }
   ],
   "source": [
    "## subarray\n",
    "print(array_3[:, 0:1])"
   ]
  },
  {
   "cell_type": "markdown",
   "id": "c0337112",
   "metadata": {},
   "source": [
    "**Una diferencia importante respecto a las listas en Python, es que\n",
    "la seleccion de elementos es una vista del array original. Es decir,\n",
    "el subconjunto no es copiado, por lo que cualquier modificacion\n",
    "afecta al array original.**\n",
    "\n",
    "*Esta forma de trabajar es debido a que NumPy esta ideado para tratar conjuntos de datos de gran volumen. En caso de que queramos copiar una seleccion, podemos usar el metodo `copy()`.* \n",
    "\n",
    "\n",
    "- Otro tipo de indexacion que es muy util es la indexacion por medio\n",
    "de booleanos. Veamos un ejemplo:\n",
    "\n",
    "**a[condicion]** : Devuelve una lista con los elementos del array a que cumplen la condición condicion.\n"
   ]
  },
  {
   "cell_type": "code",
   "execution_count": 26,
   "id": "22624ae0",
   "metadata": {},
   "outputs": [
    {
     "data": {
      "text/plain": [
       "array(['Pepe', 'Jose', 'Maria', 'Pepe', 'Maria', 'Jose', 'Jose'],\n",
       "      dtype='<U5')"
      ]
     },
     "execution_count": 26,
     "metadata": {},
     "output_type": "execute_result"
    }
   ],
   "source": [
    "names = np.array([\"Pepe\", \"Jose\", \"Maria\", \"Pepe\", \"Maria\", \"Jose\", \"Jose\"])\n",
    "names"
   ]
  },
  {
   "cell_type": "code",
   "execution_count": 42,
   "id": "6d4845ec",
   "metadata": {},
   "outputs": [
    {
     "data": {
      "text/plain": [
       "array([[ 0.57454838,  2.123534  ,  1.01418016,  2.15126578],\n",
       "       [ 1.21197373,  0.29534922,  0.27594548, -0.41954457],\n",
       "       [ 0.74817958,  1.39504179, -0.10449311,  0.82860522],\n",
       "       [-1.58020959, -1.77050887,  0.4372242 ,  0.35059513],\n",
       "       [-1.13053476, -0.36441717, -1.40842768,  0.60150272],\n",
       "       [ 1.25166816,  1.16938243,  1.85723251, -0.46838527],\n",
       "       [ 0.71005332, -2.24593951,  0.03320989,  1.85759577]])"
      ]
     },
     "execution_count": 42,
     "metadata": {},
     "output_type": "execute_result"
    }
   ],
   "source": [
    "data = np.random.randn(7, 4)\n",
    "data"
   ]
  },
  {
   "cell_type": "code",
   "execution_count": 38,
   "id": "1775dbd1",
   "metadata": {},
   "outputs": [
    {
     "data": {
      "text/plain": [
       "array([[ 1.87781792,  0.30644066, -1.59044176,  0.81934331],\n",
       "       [ 2.39509025,  0.70777226,  2.20650932,  1.13021106],\n",
       "       [ 1.50554529, -0.20956051,  1.34041857,  1.34045546],\n",
       "       [ 1.96765339,  1.57470756,  0.45670651,  1.72059361],\n",
       "       [ 1.56100206,  1.26494754,  0.15237735,  2.1238234 ],\n",
       "       [ 0.43762465,  1.74094328,  1.28188554,  0.2203496 ],\n",
       "       [ 1.38763423, -0.13235604,  0.35931616, -0.4991419 ]])"
      ]
     },
     "execution_count": 38,
     "metadata": {},
     "output_type": "execute_result"
    }
   ],
   "source": [
    "data + 1"
   ]
  },
  {
   "cell_type": "code",
   "execution_count": 36,
   "id": "ebd5fd6b",
   "metadata": {},
   "outputs": [
    {
     "data": {
      "text/plain": [
       "['Pepe', 'Jose', 'Maria', 'Pepe', 'Maria', 'Jose', 'Jose']"
      ]
     },
     "execution_count": 36,
     "metadata": {},
     "output_type": "execute_result"
    }
   ],
   "source": [
    "lista = [\"Pepe\", \"Jose\", \"Maria\", \"Pepe\", \"Maria\", \"Jose\", \"Jose\"];lista"
   ]
  },
  {
   "cell_type": "code",
   "execution_count": 37,
   "id": "0badc1f8",
   "metadata": {},
   "outputs": [
    {
     "data": {
      "text/plain": [
       "False"
      ]
     },
     "execution_count": 37,
     "metadata": {},
     "output_type": "execute_result"
    }
   ],
   "source": [
    "lista == 'Pepe'"
   ]
  },
  {
   "cell_type": "code",
   "execution_count": 28,
   "id": "df08a1cf",
   "metadata": {},
   "outputs": [],
   "source": [
    "filtro = names == 'Pepe'"
   ]
  },
  {
   "cell_type": "code",
   "execution_count": 29,
   "id": "69e21eb4",
   "metadata": {},
   "outputs": [
    {
     "data": {
      "text/plain": [
       "array([ True, False, False,  True, False, False, False])"
      ]
     },
     "execution_count": 29,
     "metadata": {},
     "output_type": "execute_result"
    }
   ],
   "source": [
    "filtro"
   ]
  },
  {
   "cell_type": "code",
   "execution_count": 43,
   "id": "131495f3",
   "metadata": {},
   "outputs": [],
   "source": [
    "data[filtro] = data[filtro] + 1"
   ]
  },
  {
   "cell_type": "code",
   "execution_count": 44,
   "id": "7c92d82d",
   "metadata": {},
   "outputs": [
    {
     "data": {
      "text/plain": [
       "array([[ 1.57454838,  3.123534  ,  2.01418016,  3.15126578],\n",
       "       [ 1.21197373,  0.29534922,  0.27594548, -0.41954457],\n",
       "       [ 0.74817958,  1.39504179, -0.10449311,  0.82860522],\n",
       "       [-0.58020959, -0.77050887,  1.4372242 ,  1.35059513],\n",
       "       [-1.13053476, -0.36441717, -1.40842768,  0.60150272],\n",
       "       [ 1.25166816,  1.16938243,  1.85723251, -0.46838527],\n",
       "       [ 0.71005332, -2.24593951,  0.03320989,  1.85759577]])"
      ]
     },
     "execution_count": 44,
     "metadata": {},
     "output_type": "execute_result"
    }
   ],
   "source": [
    "data"
   ]
  },
  {
   "cell_type": "markdown",
   "id": "b11369b9",
   "metadata": {},
   "source": [
    "Como vemos, podemos filtrar los resultados dependiendo de si se\n",
    "cumple o no la condicion que queramos. Una condicion\n",
    "indispensable es que el array de booleanos debe tener el mismo\n",
    "tamaño que el array de datos.\n",
    "\n",
    "Ademas, podemos unir nuestro filtrado con booleanos con el otro\n",
    "tipo de indexacion visto previamente"
   ]
  },
  {
   "cell_type": "code",
   "execution_count": 31,
   "id": "56d8686e",
   "metadata": {},
   "outputs": [
    {
     "data": {
      "text/plain": [
       "array([[ 0.87781792, -0.69355934, -2.59044176, -0.18065669],\n",
       "       [ 1.39509025, -0.29222774,  1.20650932,  0.13021106],\n",
       "       [ 0.50554529, -1.20956051,  0.34041857,  0.34045546],\n",
       "       [ 0.96765339,  0.57470756, -0.54329349,  0.72059361],\n",
       "       [ 0.56100206,  0.26494754, -0.84762265,  1.1238234 ],\n",
       "       [-0.56237535,  0.74094328,  0.28188554, -0.7796504 ],\n",
       "       [ 0.38763423, -1.13235604, -0.64068384, -1.4991419 ]])"
      ]
     },
     "execution_count": 31,
     "metadata": {},
     "output_type": "execute_result"
    }
   ],
   "source": [
    "data"
   ]
  },
  {
   "cell_type": "code",
   "execution_count": 32,
   "id": "7c5ee984",
   "metadata": {},
   "outputs": [],
   "source": [
    "filtro2 = data > 0"
   ]
  },
  {
   "cell_type": "code",
   "execution_count": 33,
   "id": "ae5fa0e3",
   "metadata": {},
   "outputs": [
    {
     "data": {
      "text/plain": [
       "array([[ True, False, False, False],\n",
       "       [ True, False,  True,  True],\n",
       "       [ True, False,  True,  True],\n",
       "       [ True,  True, False,  True],\n",
       "       [ True,  True, False,  True],\n",
       "       [False,  True,  True, False],\n",
       "       [ True, False, False, False]])"
      ]
     },
     "execution_count": 33,
     "metadata": {},
     "output_type": "execute_result"
    }
   ],
   "source": [
    "filtro2"
   ]
  },
  {
   "cell_type": "code",
   "execution_count": 34,
   "id": "c7ae591f",
   "metadata": {},
   "outputs": [
    {
     "data": {
      "text/plain": [
       "array([0.87781792, 1.39509025, 1.20650932, 0.13021106, 0.50554529,\n",
       "       0.34041857, 0.34045546, 0.96765339, 0.57470756, 0.72059361,\n",
       "       0.56100206, 0.26494754, 1.1238234 , 0.74094328, 0.28188554,\n",
       "       0.38763423])"
      ]
     },
     "execution_count": 34,
     "metadata": {},
     "output_type": "execute_result"
    }
   ],
   "source": [
    "data[filtro2]"
   ]
  },
  {
   "cell_type": "code",
   "execution_count": null,
   "id": "b1f38cdd",
   "metadata": {},
   "outputs": [],
   "source": []
  },
  {
   "cell_type": "code",
   "execution_count": 45,
   "id": "18d352fe",
   "metadata": {},
   "outputs": [
    {
     "data": {
      "text/plain": [
       "array([False, False, False, False, False, False, False])"
      ]
     },
     "execution_count": 45,
     "metadata": {},
     "output_type": "execute_result"
    }
   ],
   "source": [
    "filtro3 = (names == \"Bob\") | (names == \"Will\")\n",
    "filtro3"
   ]
  },
  {
   "cell_type": "code",
   "execution_count": null,
   "id": "cb0bda85",
   "metadata": {},
   "outputs": [],
   "source": [
    "data"
   ]
  },
  {
   "cell_type": "code",
   "execution_count": null,
   "id": "9706a46f",
   "metadata": {},
   "outputs": [],
   "source": [
    "data[filtro3]"
   ]
  },
  {
   "cell_type": "code",
   "execution_count": 46,
   "id": "e477aa0a",
   "metadata": {},
   "outputs": [
    {
     "data": {
      "text/plain": [
       "array([[ 1.57454838,  3.123534  ,  2.01418016,  3.15126578],\n",
       "       [ 7.        ,  7.        ,  7.        ,  7.        ],\n",
       "       [ 7.        ,  7.        ,  7.        ,  7.        ],\n",
       "       [-0.58020959, -0.77050887,  1.4372242 ,  1.35059513],\n",
       "       [ 7.        ,  7.        ,  7.        ,  7.        ],\n",
       "       [ 7.        ,  7.        ,  7.        ,  7.        ],\n",
       "       [ 7.        ,  7.        ,  7.        ,  7.        ]])"
      ]
     },
     "execution_count": 46,
     "metadata": {},
     "output_type": "execute_result"
    }
   ],
   "source": [
    "data[names != \"Pepe\"] = 7\n",
    "data"
   ]
  },
  {
   "cell_type": "markdown",
   "id": "17a1892d",
   "metadata": {},
   "source": [
    "### Slicing arrays\n",
    "\n",
    "Tomar elementos desde un índice dado a otro índice dado.\n",
    "\n",
    "**a[start:stop]** \n",
    "\n",
    "**a[start:]**    \n",
    "\n",
    "**a[:stop]**     \n",
    "\n",
    "**a[:]**   copia el array entero"
   ]
  },
  {
   "cell_type": "code",
   "execution_count": null,
   "id": "26681da6",
   "metadata": {},
   "outputs": [],
   "source": [
    "array_3"
   ]
  },
  {
   "cell_type": "code",
   "execution_count": null,
   "id": "b1dd8982",
   "metadata": {},
   "outputs": [],
   "source": [
    "array_3[0,1,0:3] ## del bloque 1, de la lista 2, los 3 primeros elementos"
   ]
  },
  {
   "cell_type": "code",
   "execution_count": null,
   "id": "7978902c",
   "metadata": {},
   "outputs": [],
   "source": [
    "array_1 = np.array([1, 2, 3, 5, 7, 11, 13, 17])\n",
    "print(array_1[0:3]) ## los 3 primeros elementos de este vector"
   ]
  },
  {
   "cell_type": "markdown",
   "id": "22fe8adb",
   "metadata": {},
   "source": [
    "### Operaciones matemáticas con arrays\n",
    "\n",
    "Existen dos formas de realizar operaciones matemáticas con arrays: **a nivel de elemento y a nivel de array**.\n",
    "\n",
    "Las operaciones a nivel de elemento operan los elementos que ocupan la misma posición en dos arrays. Se necesitan, por tanto, dos arrays con las mismas dimensiones y el resultado es una array de la misma dimensión.\n",
    "\n",
    "Los operadores mamemáticos +, -, *, /, %, ** se utilizan para la realizar suma, resta, producto, cociente, resto y potencia a nivel de elemento."
   ]
  },
  {
   "cell_type": "code",
   "execution_count": 47,
   "id": "90f3f2c4",
   "metadata": {},
   "outputs": [],
   "source": [
    "a = np.array([[1, 2, 3], [4, 5, 6]])\n",
    "b = np.array([[1, 1, 1], [2, 2, 2]])"
   ]
  },
  {
   "cell_type": "code",
   "execution_count": 48,
   "id": "67df1e7a",
   "metadata": {},
   "outputs": [
    {
     "data": {
      "text/plain": [
       "array([[1, 2, 3],\n",
       "       [4, 5, 6]])"
      ]
     },
     "execution_count": 48,
     "metadata": {},
     "output_type": "execute_result"
    }
   ],
   "source": [
    "a"
   ]
  },
  {
   "cell_type": "code",
   "execution_count": 49,
   "id": "7ecc17c0",
   "metadata": {},
   "outputs": [
    {
     "data": {
      "text/plain": [
       "array([[ 2,  4,  6],\n",
       "       [ 8, 10, 12]])"
      ]
     },
     "execution_count": 49,
     "metadata": {},
     "output_type": "execute_result"
    }
   ],
   "source": [
    "a*2"
   ]
  },
  {
   "cell_type": "code",
   "execution_count": 50,
   "id": "323bb68b",
   "metadata": {},
   "outputs": [
    {
     "data": {
      "text/plain": [
       "array([[1, 1, 1],\n",
       "       [2, 2, 2]])"
      ]
     },
     "execution_count": 50,
     "metadata": {},
     "output_type": "execute_result"
    }
   ],
   "source": [
    "b"
   ]
  },
  {
   "cell_type": "code",
   "execution_count": 51,
   "id": "37280860",
   "metadata": {},
   "outputs": [
    {
     "data": {
      "text/plain": [
       "array([[6, 6, 6],\n",
       "       [7, 7, 7]])"
      ]
     },
     "execution_count": 51,
     "metadata": {},
     "output_type": "execute_result"
    }
   ],
   "source": [
    "b+5"
   ]
  },
  {
   "cell_type": "code",
   "execution_count": 52,
   "id": "55dba6c4",
   "metadata": {},
   "outputs": [
    {
     "name": "stdout",
     "output_type": "stream",
     "text": [
      "[[2 3 4]\n",
      " [6 7 8]]\n"
     ]
    }
   ],
   "source": [
    "print(a + b)"
   ]
  },
  {
   "cell_type": "code",
   "execution_count": 53,
   "id": "61041d1e",
   "metadata": {},
   "outputs": [
    {
     "name": "stdout",
     "output_type": "stream",
     "text": [
      "[[1.  2.  3. ]\n",
      " [2.  2.5 3. ]]\n"
     ]
    }
   ],
   "source": [
    "print(a / b)"
   ]
  },
  {
   "cell_type": "code",
   "execution_count": 54,
   "id": "6021c59c",
   "metadata": {},
   "outputs": [
    {
     "name": "stdout",
     "output_type": "stream",
     "text": [
      "[[ 1  4  9]\n",
      " [16 25 36]]\n"
     ]
    }
   ],
   "source": [
    "print(a ** 2)"
   ]
  },
  {
   "cell_type": "markdown",
   "id": "6aa44a09",
   "metadata": {},
   "source": [
    "### Operaciones matemáticas a nivel de array\n",
    "\n",
    "Los arrays son importantes porque permiten expresar operaciones\n",
    "sobre muchos elementos sin la necesidad de escribir bucles. Esto es\n",
    "lo que se conoce como **vectorización.**\n",
    "\n",
    "Para realizar el producto matricial se utiliza el método\n",
    "\n",
    "**a.dot(b)** : Devuelve el array resultado del producto matricial de los arrays a y b siempre y cuando sus dimensiones sean compatibles.\n",
    "\n",
    "Y para trasponer una matriz se utiliza el método\n",
    "\n",
    "**a.T** : Devuelve el array resultado de trasponer el array a."
   ]
  },
  {
   "cell_type": "code",
   "execution_count": 55,
   "id": "20c19d61",
   "metadata": {},
   "outputs": [],
   "source": [
    "a = np.array([[1, 2, 3], [4, 5, 6]])\n",
    "b = np.array([[1, 1], [2, 2], [3, 3]])"
   ]
  },
  {
   "cell_type": "code",
   "execution_count": 57,
   "id": "38f965cf",
   "metadata": {},
   "outputs": [
    {
     "data": {
      "text/plain": [
       "array([[1, 2, 3],\n",
       "       [4, 5, 6]])"
      ]
     },
     "execution_count": 57,
     "metadata": {},
     "output_type": "execute_result"
    }
   ],
   "source": [
    "a"
   ]
  },
  {
   "cell_type": "code",
   "execution_count": 58,
   "id": "65629e69",
   "metadata": {},
   "outputs": [
    {
     "data": {
      "text/plain": [
       "array([[1, 1],\n",
       "       [2, 2],\n",
       "       [3, 3]])"
      ]
     },
     "execution_count": 58,
     "metadata": {},
     "output_type": "execute_result"
    }
   ],
   "source": [
    "b"
   ]
  },
  {
   "cell_type": "code",
   "execution_count": 56,
   "id": "3ff1b89d",
   "metadata": {},
   "outputs": [
    {
     "name": "stdout",
     "output_type": "stream",
     "text": [
      "[[14 14]\n",
      " [32 32]]\n"
     ]
    }
   ],
   "source": [
    "print(a.dot(b))"
   ]
  },
  {
   "cell_type": "code",
   "execution_count": 59,
   "id": "404f0f75",
   "metadata": {},
   "outputs": [
    {
     "data": {
      "text/plain": [
       "array([[1, 4],\n",
       "       [2, 5],\n",
       "       [3, 6]])"
      ]
     },
     "execution_count": 59,
     "metadata": {},
     "output_type": "execute_result"
    }
   ],
   "source": [
    "a.T"
   ]
  },
  {
   "cell_type": "code",
   "execution_count": 60,
   "id": "4a5d161f",
   "metadata": {},
   "outputs": [
    {
     "name": "stdout",
     "output_type": "stream",
     "text": [
      "(3, 2)\n"
     ]
    }
   ],
   "source": [
    "print(a.T.shape)"
   ]
  },
  {
   "cell_type": "markdown",
   "id": "e478bbe4",
   "metadata": {},
   "source": [
    "### Funciones universales de comparación"
   ]
  },
  {
   "cell_type": "code",
   "execution_count": 61,
   "id": "23db605c",
   "metadata": {},
   "outputs": [
    {
     "data": {
      "text/plain": [
       "array([[False, False,  True],\n",
       "       [False,  True,  True]])"
      ]
     },
     "execution_count": 61,
     "metadata": {},
     "output_type": "execute_result"
    }
   ],
   "source": [
    "array_a=np.array([[1, 2, 3],[1, 4, 9]])\n",
    "array_b=np.array([[1, 3, 2],[2, 2, 2]])\n",
    "\n",
    "array_a > array_b"
   ]
  },
  {
   "cell_type": "code",
   "execution_count": 62,
   "id": "0f07442a",
   "metadata": {},
   "outputs": [
    {
     "name": "stdout",
     "output_type": "stream",
     "text": [
      "[[False False  True]\n",
      " [False  True  True]]\n"
     ]
    }
   ],
   "source": [
    "array_a=np.array([[1, 2, 3],[1, 4, 9]])\n",
    "array_b=np.array([[1, 3, 2],[2, 2, 2]])\n",
    "\n",
    "print(np.greater(array_a,array_b))"
   ]
  },
  {
   "cell_type": "markdown",
   "id": "19608a5d",
   "metadata": {},
   "source": [
    "### Agregaciones"
   ]
  },
  {
   "cell_type": "code",
   "execution_count": 63,
   "id": "e0b64646",
   "metadata": {},
   "outputs": [
    {
     "data": {
      "text/plain": [
       "array([[1, 2, 3],\n",
       "       [1, 4, 9]])"
      ]
     },
     "execution_count": 63,
     "metadata": {},
     "output_type": "execute_result"
    }
   ],
   "source": [
    "array_a"
   ]
  },
  {
   "cell_type": "code",
   "execution_count": 64,
   "id": "de741fe3",
   "metadata": {},
   "outputs": [
    {
     "data": {
      "text/plain": [
       "array([[1, 3, 2],\n",
       "       [2, 2, 2]])"
      ]
     },
     "execution_count": 64,
     "metadata": {},
     "output_type": "execute_result"
    }
   ],
   "source": [
    "array_b"
   ]
  },
  {
   "cell_type": "code",
   "execution_count": 65,
   "id": "16c21b30",
   "metadata": {},
   "outputs": [
    {
     "data": {
      "text/plain": [
       "array([[ 2,  5,  5],\n",
       "       [ 3,  6, 11]])"
      ]
     },
     "execution_count": 65,
     "metadata": {},
     "output_type": "execute_result"
    }
   ],
   "source": [
    "np.add(array_a, array_b) ## suma los dos arrays"
   ]
  },
  {
   "cell_type": "code",
   "execution_count": 67,
   "id": "ab18bff2",
   "metadata": {},
   "outputs": [
    {
     "data": {
      "text/plain": [
       "array([[1, 2, 3],\n",
       "       [1, 4, 9]])"
      ]
     },
     "execution_count": 67,
     "metadata": {},
     "output_type": "execute_result"
    }
   ],
   "source": [
    "array_a"
   ]
  },
  {
   "cell_type": "code",
   "execution_count": 66,
   "id": "d03ca347",
   "metadata": {},
   "outputs": [
    {
     "data": {
      "text/plain": [
       "array([ 2,  6, 12])"
      ]
     },
     "execution_count": 66,
     "metadata": {},
     "output_type": "execute_result"
    }
   ],
   "source": [
    "array_a_reduced=np.add.reduce(array_a)\n",
    "array_a_reduced"
   ]
  },
  {
   "cell_type": "code",
   "execution_count": 68,
   "id": "930c4d94",
   "metadata": {},
   "outputs": [
    {
     "data": {
      "text/plain": [
       "20"
      ]
     },
     "execution_count": 68,
     "metadata": {},
     "output_type": "execute_result"
    }
   ],
   "source": [
    "np.add.reduce(array_a_reduced)"
   ]
  },
  {
   "cell_type": "code",
   "execution_count": 69,
   "id": "b4a38862",
   "metadata": {},
   "outputs": [
    {
     "data": {
      "text/plain": [
       "20"
      ]
     },
     "execution_count": 69,
     "metadata": {},
     "output_type": "execute_result"
    }
   ],
   "source": [
    "array_a.sum() # es lo mismo que lo anterior"
   ]
  },
  {
   "cell_type": "markdown",
   "id": "589df6b2",
   "metadata": {},
   "source": [
    "### Acumulados\n",
    "\n",
    "Acumula el resultado de aplicar el operador a todos los elementos."
   ]
  },
  {
   "cell_type": "code",
   "execution_count": 71,
   "id": "2ddc90d1",
   "metadata": {},
   "outputs": [
    {
     "data": {
      "text/plain": [
       "array([[1, 2, 3],\n",
       "       [1, 4, 9]])"
      ]
     },
     "execution_count": 71,
     "metadata": {},
     "output_type": "execute_result"
    }
   ],
   "source": [
    "array_a"
   ]
  },
  {
   "cell_type": "code",
   "execution_count": 70,
   "id": "6ebe4088",
   "metadata": {},
   "outputs": [
    {
     "data": {
      "text/plain": [
       "array([[ 1,  2,  3],\n",
       "       [ 2,  6, 12]])"
      ]
     },
     "execution_count": 70,
     "metadata": {},
     "output_type": "execute_result"
    }
   ],
   "source": [
    "np.add.accumulate(array_a)"
   ]
  },
  {
   "cell_type": "code",
   "execution_count": null,
   "id": "d1b38d76",
   "metadata": {},
   "outputs": [],
   "source": [
    "np.add.accumulate(array_a_reduced)"
   ]
  },
  {
   "cell_type": "markdown",
   "id": "4ce365ee",
   "metadata": {},
   "source": [
    "### Operaciones con arrays"
   ]
  },
  {
   "cell_type": "code",
   "execution_count": 72,
   "id": "58587bc6",
   "metadata": {},
   "outputs": [
    {
     "data": {
      "text/plain": [
       "array([[1, 2, 3],\n",
       "       [1, 4, 9]])"
      ]
     },
     "execution_count": 72,
     "metadata": {},
     "output_type": "execute_result"
    }
   ],
   "source": [
    "array_a"
   ]
  },
  {
   "cell_type": "code",
   "execution_count": 73,
   "id": "dfdaa718",
   "metadata": {},
   "outputs": [
    {
     "data": {
      "text/plain": [
       "20"
      ]
     },
     "execution_count": 73,
     "metadata": {},
     "output_type": "execute_result"
    }
   ],
   "source": [
    "array_a.sum()"
   ]
  },
  {
   "cell_type": "code",
   "execution_count": 74,
   "id": "43489e4b",
   "metadata": {},
   "outputs": [
    {
     "data": {
      "text/plain": [
       "array([ 2,  6, 12])"
      ]
     },
     "execution_count": 74,
     "metadata": {},
     "output_type": "execute_result"
    }
   ],
   "source": [
    "array_a.sum(axis=0) "
   ]
  },
  {
   "cell_type": "code",
   "execution_count": 75,
   "id": "f75ed41c",
   "metadata": {},
   "outputs": [
    {
     "data": {
      "text/plain": [
       "array([ 6, 14])"
      ]
     },
     "execution_count": 75,
     "metadata": {},
     "output_type": "execute_result"
    }
   ],
   "source": [
    "array_a.sum(axis=1)"
   ]
  },
  {
   "cell_type": "markdown",
   "id": "e3c9a715",
   "metadata": {},
   "source": [
    "### Ordenación\n"
   ]
  },
  {
   "cell_type": "code",
   "execution_count": 76,
   "id": "a56eeda7",
   "metadata": {},
   "outputs": [
    {
     "data": {
      "text/plain": [
       "array([0.71398566, 0.9477098 , 0.73548002, 0.55076341, 0.08596442,\n",
       "       0.69190874, 0.40831457, 0.16562878, 0.92742953, 0.67527751])"
      ]
     },
     "execution_count": 76,
     "metadata": {},
     "output_type": "execute_result"
    }
   ],
   "source": [
    "array_1d=np.random.rand(10) # definimos array\n",
    "array_1d"
   ]
  },
  {
   "cell_type": "code",
   "execution_count": 77,
   "id": "96c9d256",
   "metadata": {},
   "outputs": [
    {
     "name": "stdout",
     "output_type": "stream",
     "text": [
      "[0.08596442 0.16562878 0.40831457 0.55076341 0.67527751 0.69190874\n",
      " 0.71398566 0.73548002 0.92742953 0.9477098 ]\n"
     ]
    }
   ],
   "source": [
    "print(np.sort(array_1d)) # ordenamos"
   ]
  },
  {
   "cell_type": "code",
   "execution_count": 78,
   "id": "96b0c7dd",
   "metadata": {},
   "outputs": [
    {
     "data": {
      "text/plain": [
       "array([[0.52549381, 0.62202294, 0.90117899, 0.54691277],\n",
       "       [0.63523509, 0.45657972, 0.77585885, 0.90840514],\n",
       "       [0.53064645, 0.34889494, 0.37805519, 0.81726118]])"
      ]
     },
     "execution_count": 78,
     "metadata": {},
     "output_type": "execute_result"
    }
   ],
   "source": [
    "array_2d=np.random.rand(3,4) # definimos array\n",
    "array_2d"
   ]
  },
  {
   "cell_type": "code",
   "execution_count": 79,
   "id": "38fc1cc1",
   "metadata": {},
   "outputs": [
    {
     "name": "stdout",
     "output_type": "stream",
     "text": [
      "[[0.52549381 0.54691277 0.62202294 0.90117899]\n",
      " [0.45657972 0.63523509 0.77585885 0.90840514]\n",
      " [0.34889494 0.37805519 0.53064645 0.81726118]]\n"
     ]
    }
   ],
   "source": [
    "print(np.sort(array_2d)) # ordenamos"
   ]
  },
  {
   "cell_type": "code",
   "execution_count": 80,
   "id": "60c41958",
   "metadata": {},
   "outputs": [
    {
     "name": "stdout",
     "output_type": "stream",
     "text": [
      "[0.34889494 0.37805519 0.45657972 0.52549381 0.53064645 0.54691277\n",
      " 0.62202294 0.63523509 0.77585885 0.81726118 0.90117899 0.90840514]\n"
     ]
    }
   ],
   "source": [
    "print(np.sort(array_2d, None)) # ordenamos"
   ]
  },
  {
   "cell_type": "code",
   "execution_count": 81,
   "id": "4848cff8",
   "metadata": {},
   "outputs": [
    {
     "name": "stdout",
     "output_type": "stream",
     "text": [
      "[[0.52549381 0.34889494 0.37805519 0.54691277]\n",
      " [0.53064645 0.45657972 0.77585885 0.81726118]\n",
      " [0.63523509 0.62202294 0.90117899 0.90840514]]\n"
     ]
    }
   ],
   "source": [
    "print(np.sort(array_2d,axis=0)) # ordenamos"
   ]
  },
  {
   "cell_type": "code",
   "execution_count": 82,
   "id": "bdd4e45b",
   "metadata": {},
   "outputs": [
    {
     "name": "stdout",
     "output_type": "stream",
     "text": [
      "[[0.52549381 0.54691277 0.62202294 0.90117899]\n",
      " [0.45657972 0.63523509 0.77585885 0.90840514]\n",
      " [0.34889494 0.37805519 0.53064645 0.81726118]]\n"
     ]
    }
   ],
   "source": [
    "print(np.sort(array_2d,axis=1)) # ordenamos"
   ]
  },
  {
   "cell_type": "code",
   "execution_count": 94,
   "id": "9ea108e4",
   "metadata": {},
   "outputs": [],
   "source": [
    "array_2d.sort()"
   ]
  },
  {
   "cell_type": "markdown",
   "id": "150482df",
   "metadata": {},
   "source": [
    "### Localizar máximo y mínimo dentro de un array"
   ]
  },
  {
   "cell_type": "code",
   "execution_count": 95,
   "id": "143fe6f3",
   "metadata": {},
   "outputs": [
    {
     "data": {
      "text/plain": [
       "array([[0.55004224, 0.92441333, 0.49841829, 0.14484796, 0.14345781],\n",
       "       [0.77149607, 0.74533125, 0.94385404, 0.49723676, 0.77862742]])"
      ]
     },
     "execution_count": 95,
     "metadata": {},
     "output_type": "execute_result"
    }
   ],
   "source": [
    "array = np.random.rand(2,5) # definimos array aleatorio\n",
    "array"
   ]
  },
  {
   "cell_type": "code",
   "execution_count": 96,
   "id": "5eb7e93c",
   "metadata": {},
   "outputs": [
    {
     "data": {
      "text/plain": [
       "0.9438540361673576"
      ]
     },
     "execution_count": 96,
     "metadata": {},
     "output_type": "execute_result"
    }
   ],
   "source": [
    "np.max(array)"
   ]
  },
  {
   "cell_type": "code",
   "execution_count": 97,
   "id": "78ba687a",
   "metadata": {},
   "outputs": [
    {
     "data": {
      "text/plain": [
       "7"
      ]
     },
     "execution_count": 97,
     "metadata": {},
     "output_type": "execute_result"
    }
   ],
   "source": [
    "np.argmax(array) # posición del array máximo"
   ]
  },
  {
   "cell_type": "code",
   "execution_count": 118,
   "id": "3fabbeb3",
   "metadata": {},
   "outputs": [],
   "source": [
    "kk = np.random.rand(1,10)"
   ]
  },
  {
   "cell_type": "code",
   "execution_count": 119,
   "id": "8d39ab7b",
   "metadata": {},
   "outputs": [
    {
     "data": {
      "text/plain": [
       "array([[0.06904766, 0.30411383, 0.92505322, 0.8661285 , 0.95609264,\n",
       "        0.97344751, 0.8271156 , 0.52975989, 0.71308056, 0.32736964]])"
      ]
     },
     "execution_count": 119,
     "metadata": {},
     "output_type": "execute_result"
    }
   ],
   "source": [
    "kk"
   ]
  },
  {
   "cell_type": "code",
   "execution_count": 122,
   "id": "9d3848f7",
   "metadata": {},
   "outputs": [],
   "source": [
    "kk_ord = np.sort(kk,axis=1)"
   ]
  },
  {
   "cell_type": "code",
   "execution_count": 123,
   "id": "01f0c84f",
   "metadata": {},
   "outputs": [
    {
     "data": {
      "text/plain": [
       "array([[0.06904766, 0.30411383, 0.32736964, 0.52975989, 0.71308056,\n",
       "        0.8271156 , 0.8661285 , 0.92505322, 0.95609264, 0.97344751]])"
      ]
     },
     "execution_count": 123,
     "metadata": {},
     "output_type": "execute_result"
    }
   ],
   "source": [
    "kk_ord"
   ]
  },
  {
   "cell_type": "code",
   "execution_count": 129,
   "id": "d54f041b",
   "metadata": {},
   "outputs": [
    {
     "data": {
      "text/plain": [
       "array([[0.06904766, 0.30411383, 0.32736964, 0.52975989, 0.71308056,\n",
       "        0.8271156 , 0.8661285 , 0.92505322, 0.95609264, 0.97344751]])"
      ]
     },
     "execution_count": 129,
     "metadata": {},
     "output_type": "execute_result"
    }
   ],
   "source": [
    "kk_ord[::-1]"
   ]
  },
  {
   "cell_type": "code",
   "execution_count": 99,
   "id": "6d172db3",
   "metadata": {},
   "outputs": [
    {
     "data": {
      "text/plain": [
       "7"
      ]
     },
     "execution_count": 99,
     "metadata": {},
     "output_type": "execute_result"
    }
   ],
   "source": [
    "np.argmax(array)"
   ]
  },
  {
   "cell_type": "code",
   "execution_count": 100,
   "id": "6901b8d4",
   "metadata": {},
   "outputs": [
    {
     "data": {
      "text/plain": [
       "array([0.94385404])"
      ]
     },
     "execution_count": 100,
     "metadata": {},
     "output_type": "execute_result"
    }
   ],
   "source": [
    "array.reshape(10,-1)[np.argmax(array)] ## seleccionamos el elemento maximo a través de la posición"
   ]
  },
  {
   "cell_type": "code",
   "execution_count": 101,
   "id": "ebd6caf8",
   "metadata": {},
   "outputs": [
    {
     "data": {
      "text/plain": [
       "array([1, 0, 1, 1, 1])"
      ]
     },
     "execution_count": 101,
     "metadata": {},
     "output_type": "execute_result"
    }
   ],
   "source": [
    "np.argmax(array, axis=0)"
   ]
  },
  {
   "cell_type": "code",
   "execution_count": 102,
   "id": "5eb58648",
   "metadata": {},
   "outputs": [
    {
     "data": {
      "text/plain": [
       "array([1, 2])"
      ]
     },
     "execution_count": 102,
     "metadata": {},
     "output_type": "execute_result"
    }
   ],
   "source": [
    "np.argmax(array, axis=1)"
   ]
  },
  {
   "cell_type": "markdown",
   "id": "cf5f6b70",
   "metadata": {},
   "source": [
    "## CONCLUSIONES\n",
    "\n",
    "- NumPy es una librería a bajo nivel para el tratamiento óptimo\n",
    "de matrices\n",
    "\n",
    "- Servirá como la base en que se sustenta Pandas para realizar\n",
    "sus tareas\n",
    "\n",
    "- NumPy proporciona muchos métodos y opciones para un\n",
    "manejo óptimo de datos\n",
    "\n",
    "- De entre sus características podemos destacar la facilidad para\n",
    "indexar elementos, para definir tipos de datos y para aplicar\n",
    "operaciones sobre todos los elementos de un array de datos.\n",
    "\n",
    "- Además de Pandas, NumPy es la base de muchas otras\n",
    "librerías actuales enfocadas en el análisis y el modelado de\n",
    "datos."
   ]
  },
  {
   "cell_type": "code",
   "execution_count": null,
   "id": "8bd3ce3f",
   "metadata": {},
   "outputs": [],
   "source": []
  },
  {
   "cell_type": "code",
   "execution_count": null,
   "id": "56545719",
   "metadata": {},
   "outputs": [],
   "source": []
  },
  {
   "cell_type": "code",
   "execution_count": null,
   "id": "cd825f23",
   "metadata": {},
   "outputs": [],
   "source": []
  },
  {
   "cell_type": "code",
   "execution_count": null,
   "id": "4c0a837f",
   "metadata": {},
   "outputs": [],
   "source": []
  },
  {
   "cell_type": "code",
   "execution_count": 44,
   "id": "609f400f-3882-4818-b4f5-592370ac1fe7",
   "metadata": {},
   "outputs": [
    {
     "name": "stderr",
     "output_type": "stream",
     "text": [
      "ERROR: unknown command \"status\"\n",
      "\n"
     ]
    }
   ],
   "source": [
    "!pip status"
   ]
  },
  {
   "cell_type": "code",
   "execution_count": 45,
   "id": "e8fd2bee-1157-4158-be9f-fa7a6d36e359",
   "metadata": {},
   "outputs": [
    {
     "name": "stdout",
     "output_type": "stream",
     "text": [
      "On branch main\n",
      "Your branch is up to date with 'origin/main'.\n",
      "\n",
      "Changes not staged for commit:\n",
      "  (use \"git add/rm <file>...\" to update what will be committed)\n",
      "  (use \"git restore <file>...\" to discard changes in working directory)\n",
      "\tmodified:   ../.ipynb_checkpoints/Python_crash_course_session_01-checkpoint.ipynb\n",
      "\tmodified:   Git_GitHub_crash_course.ipynb\n",
      "\tdeleted:    Python_crash_course_session_3.ipynb\n",
      "\tmodified:   ../Python_crash_course_session_01.ipynb\n",
      "\tmodified:   ../Python_crash_course_session_2.ipynb\n",
      "\n",
      "Untracked files:\n",
      "  (use \"git add <file>...\" to include in what will be committed)\n",
      "\t../.ipynb_checkpoints/Python_crash_course_session_3-checkpoint.ipynb\n",
      "\t../Python_crash_course_session_3.ipynb\n",
      "\n",
      "no changes added to commit (use \"git add\" and/or \"git commit -a\")\n"
     ]
    }
   ],
   "source": [
    "!git status"
   ]
  },
  {
   "cell_type": "code",
   "execution_count": 47,
   "id": "b7870863-f49b-4f48-a3d7-0c27eabf9bf9",
   "metadata": {},
   "outputs": [],
   "source": [
    "!git add ."
   ]
  },
  {
   "cell_type": "code",
   "execution_count": 48,
   "id": "84eec7b6-5106-4fb9-aaa3-3efea1752baa",
   "metadata": {},
   "outputs": [
    {
     "name": "stdout",
     "output_type": "stream",
     "text": [
      "[main 787aa7e] Ejercicio3 manual Phyton\n",
      " 2 files changed, 1 insertion(+), 2406 deletions(-)\n",
      " delete mode 100644 PCD2023/Python_crash_course_session_3.ipynb\n"
     ]
    }
   ],
   "source": [
    "!git commit -m\"Ejercicio3 manual Phyton\""
   ]
  },
  {
   "cell_type": "code",
   "execution_count": 49,
   "id": "c0811243-fca4-4226-8119-ffd7e4cd3845",
   "metadata": {},
   "outputs": [
    {
     "name": "stderr",
     "output_type": "stream",
     "text": [
      "To https://github.com/cuatrobrazos1/PCD_2023.git\n",
      "   fae7269..787aa7e  main -> main\n"
     ]
    }
   ],
   "source": [
    "!git push"
   ]
  },
  {
   "cell_type": "code",
   "execution_count": 50,
   "id": "461c2c7b-75da-4400-a282-d7b13677a236",
   "metadata": {},
   "outputs": [
    {
     "name": "stdout",
     "output_type": "stream",
     "text": [
      "On branch main\n",
      "Your branch is up to date with 'origin/main'.\n",
      "\n",
      "Changes not staged for commit:\n",
      "  (use \"git add <file>...\" to update what will be committed)\n",
      "  (use \"git restore <file>...\" to discard changes in working directory)\n",
      "\tmodified:   ../.ipynb_checkpoints/Python_crash_course_session_01-checkpoint.ipynb\n",
      "\tmodified:   ../Python_crash_course_session_01.ipynb\n",
      "\tmodified:   ../Python_crash_course_session_2.ipynb\n",
      "\n",
      "Untracked files:\n",
      "  (use \"git add <file>...\" to include in what will be committed)\n",
      "\t../.ipynb_checkpoints/Clase26_10_2023_Miguel_Marchal-checkpoint.ipynb\n",
      "\t../Clase26_10_2023_Miguel_Marchal.ipynb\n",
      "\n",
      "no changes added to commit (use \"git add\" and/or \"git commit -a\")\n"
     ]
    }
   ],
   "source": [
    "!git status"
   ]
  },
  {
   "cell_type": "code",
   "execution_count": 53,
   "id": "49adf4b6-767d-4e40-8cdd-1bd15a9d2507",
   "metadata": {},
   "outputs": [],
   "source": [
    "!git add ."
   ]
  },
  {
   "cell_type": "code",
   "execution_count": 54,
   "id": "ed9582fb-7f59-4b69-8103-e10636597edf",
   "metadata": {},
   "outputs": [
    {
     "name": "stdout",
     "output_type": "stream",
     "text": [
      "On branch main\n",
      "Your branch is up to date with 'origin/main'.\n",
      "\n",
      "Changes not staged for commit:\n",
      "  (use \"git add <file>...\" to update what will be committed)\n",
      "  (use \"git restore <file>...\" to discard changes in working directory)\n",
      "\tmodified:   ../.ipynb_checkpoints/Python_crash_course_session_01-checkpoint.ipynb\n",
      "\tmodified:   ../Python_crash_course_session_01.ipynb\n",
      "\tmodified:   ../Python_crash_course_session_2.ipynb\n",
      "\n",
      "Untracked files:\n",
      "  (use \"git add <file>...\" to include in what will be committed)\n",
      "\t../.ipynb_checkpoints/Clase26_10_2023_Miguel_Marchal-checkpoint.ipynb\n",
      "\t../Clase26_10_2023_Miguel_Marchal.ipynb\n",
      "\n",
      "no changes added to commit (use \"git add\" and/or \"git commit -a\")\n"
     ]
    }
   ],
   "source": [
    "!git commit -m\"EjercicioClase26_Realizado\""
   ]
  },
  {
   "cell_type": "code",
   "execution_count": null,
   "id": "a2b4c587-82d4-467c-8bfd-0157ed1cc131",
   "metadata": {},
   "outputs": [],
   "source": []
  }
 ],
 "metadata": {
  "kernelspec": {
   "display_name": "Python 3 (ipykernel)",
   "language": "python",
   "name": "python3"
  },
  "language_info": {
   "codemirror_mode": {
    "name": "ipython",
    "version": 3
   },
   "file_extension": ".py",
   "mimetype": "text/x-python",
   "name": "python",
   "nbconvert_exporter": "python",
   "pygments_lexer": "ipython3",
   "version": "3.11.5"
  }
 },
 "nbformat": 4,
 "nbformat_minor": 5
}
